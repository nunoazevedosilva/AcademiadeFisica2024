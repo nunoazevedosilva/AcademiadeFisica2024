{
 "cells": [
  {
   "cell_type": "markdown",
   "id": "383e900c",
   "metadata": {},
   "source": [
    "# Academia de Física 2024\n",
    "#\n",
    "## Notebook de Análise de Dados \n",
    "Actividade: A ótica como caixa de ferramentas para a indústria e ciência – fabricação de sensores óticos para monitorização de parâmetros ambientais em tempo real\n",
    "\n",
    "\n",
    "**Objectivo:** Monitorização ambiental com sensores em fibra baseados em redes de período longo (LPG - Long Period Grating)\n",
    "\n",
    "**Datas:** Sessão 2: 3/5/2024, Sessão 3: 10/5/2024\n",
    "\n",
    "**Grupo:** Hélia Ferreira, Inês Ferreira Lopes, Inês Pinto, Maria Santos, Matias Praça\n",
    "\n",
    "**Monitores:** Luís Coelho, Nuno Silva\n",
    "\n",
    "-----------"
   ]
  },
  {
   "cell_type": "markdown",
   "id": "45b65498",
   "metadata": {},
   "source": [
    "# 1. Introdução\n",
    "\n",
    "## 1.1 Contexto\n",
    "\n",
    "A ótica é uma subárea da física de alto potencial a nível tecnológico devido às propriedades intrínsecas da luz, em particular a velocidade da luz (uma das motivações para as comunicações ultrarrápidas em fibra ótica), o comportamento ondulatório e interferência de fontes coerentes (o conceito suporte de sensores ultrassensíveis), e a sua interação com a matéria (no limite, definindo aquilo que é a nossa perceção visual do mundo). Atualmente, a ótica aparece como uma das áreas mais importantes da física, seja na perspetiva científica – onde suporta os maiores importantes avanços desde a deteção de ondas gravitacionais à física quântica - ou tecnologia – onde se estabelece como um dos motores mais importantes das indústrias mais modernas e liderando a transição sustentável. A nível local e nacional, a FCUP e em particular o Centro de Fotónica Aplicada do INESC TEC são instituições de prestígio neste domínio científico\n",
    "\n",
    "---------------------\n",
    "\n",
    "## 1.2. Descrição da atividade\n",
    "\n",
    "Nesta atividade vamos explorar o desenvolvimento de sensores em fibra ótica para monitorização ambiental utilizando redes de período longo (long-period gratings -LPGs). \n",
    "\n",
    "\n",
    "<p align=\"center\">\n",
    "  <img src=\"LPG1.png\" width='40%' alt=\"Concept\"/><img src=\"LPG2.png\" width='35%' alt=\"Concept\"/>\n",
    "  <center>Figura. Processo de fabricação utilizando a técnica de arco elétrico e espectro ótico final. Representação de um sistema de monitorização de líquidos utilizando redes de período longo em fibra ótica.</center>\n",
    "</p>\n",
    "\n",
    "Esta atividade procura introduzir alguns dos conceitos mais importantes da ótica, refletindo a sua importância no mundo atual, e percebendo como podem ser aplicados no mundo real. Aproveitando a ubiquidade da ótica, o projeto utiliza uma visão multifacetada nas várias vertentes de uma possível carreira na área da física, em específico:\n",
    "\n",
    "**Vertente teórica:** Modelo e princípio de sensorização (ex. perfil de Física Teórica);\n",
    "\n",
    "**Vertente aplicada:** Fabricação de dispositivos e validação do conceito (caracterização) (ex. perfil de Física Aplicada);\n",
    "\n",
    "**Vertente desenvolvimento:** interrogação e desenvolvimento integrado de sistema de sensorização (ex. perfil de Engenharia Física);\n",
    "\n",
    "-------\n",
    "\n",
    "## 1.4 Introdução teórica: sensores em fibra ótica e redes de período longo (LPG)\n",
    "\n",
    "As fibras óticas são filamentos flexíveis feitos de vidro ou plástico (com diâmetro de dezenas a centenas de micrómetros), que são capazes de guiar a luz a grandes distâncias através da reflexão total interna. Esta tecnologia é essencial para as comunicações modernas, permitindo a transmissão de dados a velocidades muito elevadas, alta densidade, e baixa degradação.\n",
    "\n",
    "Em paralelo à comunicação, as fibras óticas podem também suportar tarefas de sensorização. De um modo geral, um sensor é um sistema físico que responde a um estímulo externo, permitindo-nos desta forma obter informação do estímulo, isto é, **fazer uma medição**.\n",
    "\n",
    "\n",
    "Os sensores em fibra ótica utilizam vários processos associados à guiagem de luz, reflexão, e refracção para monitorizar diversas grandezas físicas, como temperatura, pressão e deformação. A sensibilidade destes sensores à alteração das propriedades da luz que passa pelas fibras permite detetar mudanças ambientais com precisão e rapidez.\n",
    "\n",
    "Algumas vantagens dos Sensores em Fibra Ótica:\n",
    "\n",
    "1. **Imunidade a interferências eletromagnéticas:** Funcionam eficazmente em ambientes com forte radiação eletromagnética.\n",
    "2. **Segurança:** são ideais para ambientes explosivos pois não requerem componentes elétricos perto da sensorização.\n",
    "3. **Miniaturização:** Podem ser fabricados em tamanhos muito pequenos para aplicações em espaços restritos.\n",
    "4. **Baixa necessidade de manutenção:** Têm longa vida útil e requerem pouca manutenção devido à sua natureza robusta e à falta de componentes elétricos.\n",
    "5. **Alcance longo e arquiteturas distribuídas:** Capazes de realizar medições ao longo de grandes distâncias sem perda de sinal significativa.\n",
    "\n",
    "\n",
    "Os sensores de período longo (Long Period Gratings, LPG) são uma variante dos sensores em fibra ótica. De um modo geral, estas redes são estruturas periódicas (da ordem das centenas de micrómetros) fabricadas diretamente numa fibra ótica de forma a promover o acoplamento entre modos guiados no núcleo com os modos da bainha da fibra. \n",
    "\n",
    "<p align=\"center\">\n",
    "  <img src=\"F1.png\" alt=\"Concept\"/>\n",
    "  <center>Figura. LPG e funcionamento</center>\n",
    "</p>\n",
    "\n",
    "Quando provocado numa fibra monomodo, este acomplamento pode levar ao aparecimento de bandas de atenuação que decorrem de um acoplamento ressonante dado pela fórmula\n",
    "\n",
    "$$ \\lambda^{i}_{LPG} = \\Lambda (n^{eff}_{core}-n^{eff}_{cladding}) $$\n",
    "\n",
    "onde $\\lambda^{i}_{LPG}$ representa o comprimento de onda de cada banda de atenuação no espectro, $n^{eff}_{core}$ e $n^{eff}_{cladding}$ os índices de refracção efetivos do core e do cladding respectivamente, e o $\\Lambda$ o período da modulação aplicada. \n",
    "\n",
    "Desta forma, a banda de atenuação acontece em condições de ressonância que dependem do índice de refração do meio envolvente, este conceito pode ser utilizado para o desenvolvimento de sensores óticos bastante precisos, que iremos utilizar para monitorização de parâmetros ambientais num problema relevante. \n",
    "\n",
    "\n",
    "------\n",
    "## 1.5 Fabricação de LPGs com arco elétrico\n",
    "\n",
    "\n",
    "<p align=\"center\">\n",
    "  <img src=\"fab1.png\" width='15%' alt=\"Concept\"/><img src=\"fab2.png\" width='30%' alt=\"Concept\"/>\n",
    "  <center>Figura. Processo de fabricação com arco elétrico.</center>\n",
    "</p>\n",
    "\n",
    "\n",
    "\n",
    "Descrição geral do processo de fabricação dos LPGS:\n",
    "\n",
    "1. Colocar a fibra (monomodo a 1550nm) no sistema de fabricação: \n",
    "\n",
    "    i. clivar e colocar no conector, que liga ao OSA; \n",
    "\n",
    "    ii. verificar que electrodos estão a 1mm de distância;\n",
    "\n",
    "    iii. tirar o revestimento num comprimento aproximadamente 10cm onde iremos fabricar a rede;\n",
    "    \n",
    "    iv. colocar a fibra no sistema, alinhando e prendendo na carruagem que será controlada automaticamente pelo programa de fabricação no computador.\n",
    "\n",
    "2. Controlar parâmetros de fabricação no : período $\\Lambda$ e número de disparos.\n",
    "3. Monitorizar evolução do espectro em transmissão no OSA;\n",
    "4. Incrementar disparos até atingir -20dB na banda de atenuação perto dos 1550nm.\n",
    "\n",
    "\n",
    "------\n",
    "\n",
    "## 1.6 Metodologia da atividade\n",
    "\n",
    "Sessão 1 - Introdução à física dos sensores de fibras óticas e instrumentação;\n",
    "\n",
    "Sessão 2 - Fabricação de um LPG, caracterização da resposta espectral;\n",
    "\n",
    "Sessão 3 - Sistema de interrogação e caracterização do sensor;\n",
    "\n",
    "Sessão 4 - Análise de dados e validação do sistema de interrogação;\n",
    "\n",
    "---------\n"
   ]
  },
  {
   "cell_type": "markdown",
   "id": "3a67dac9",
   "metadata": {
    "scrolled": false
   },
   "source": [
    "# 2. Análise de Dados da Fabricação\n",
    "\n",
    "Parâmetros:\n",
    "\n",
    "LPG 1 - $\\Lambda= 405 \\mu m$, 50 disparos\n",
    "\n",
    "LPG 2 - $\\Lambda= 408 \\mu m$, 58 disparos\n",
    "\n"
   ]
  },
  {
   "cell_type": "code",
   "execution_count": 1,
   "id": "a092d5c2",
   "metadata": {},
   "outputs": [],
   "source": [
    "import numpy as np\n",
    "import matplotlib.pyplot as plt \n",
    "import os"
   ]
  },
  {
   "cell_type": "code",
   "execution_count": 2,
   "id": "27b3cafa",
   "metadata": {},
   "outputs": [],
   "source": [
    "############ Função para leitura dos dados do OSA#######################\n",
    "def extract_osa_data(file_path,filter = False):\n",
    "    properties = {}\n",
    "    data = []\n",
    "    \n",
    "    with open(file_path, 'r') as file:\n",
    "        lines = file.readlines()\n",
    "        \n",
    "        # Extract properties\n",
    "        for line in lines[:32]:\n",
    "            if ',' in line:\n",
    "                key, value = line.strip().split(',')\n",
    "                try:\n",
    "                    properties[key.strip('\"')] = float(value)\n",
    "                except:\n",
    "                    properties[key.strip('\"')] = value\n",
    "            else:\n",
    "                parts = line.strip().split('\"')\n",
    "                if len(parts) > 1:\n",
    "                    properties[parts[1]] = None\n",
    "\n",
    "        # Extract data\n",
    "        wavelengths = []\n",
    "        spectrum = []\n",
    "        for line in lines[33:]:  \n",
    "            if ',' in line:\n",
    "                wavelength, measurement = line.strip().split(',')\n",
    "                wavelengths.append(float(wavelength))\n",
    "                spectrum.append(float(measurement))\n",
    "\n",
    "        ##se filter == True aplica filtro gaussiano nos dados\n",
    "        if filter:\n",
    "            def moving_average(x, w=9):\n",
    "                return np.convolve(x, np.ones(w),mode='same') / w\n",
    "            spectrum = moving_average(spectrum)\n",
    "        \n",
    "    return properties, np.array(wavelengths), np.array(spectrum)"
   ]
  },
  {
   "cell_type": "markdown",
   "id": "87ba34f1",
   "metadata": {},
   "source": [
    "# 2.1. Load dos Dados adquiridos no OSA"
   ]
  },
  {
   "cell_type": "code",
   "execution_count": 3,
   "id": "7959d6fc",
   "metadata": {},
   "outputs": [],
   "source": [
    "#path para os ficheiros \n",
    "root_path = 'dados_LPG\\\\'\n",
    "LPG_1_file = root_path + 'fibra1.CSV'\n",
    "LPG_2_file = root_path + 'fibra2.CSV'\n",
    "\n",
    "#ler ficheiros com a funcao extract_osa_data(file_path) - returns properties, wavelengths, spectrum \n",
    "LPG_1_properties, wl, LPG_1_spectrum = extract_osa_data(LPG_1_file,filter=True)\n",
    "LPG_2_properties, wl, LPG_2_spectrum = extract_osa_data(LPG_2_file,filter=True)\n",
    "\n",
    "\n",
    "index_to_cut = -50\n",
    "wl = wl[:index_to_cut]\n",
    "LPG_1_spectrum = LPG_1_spectrum[:index_to_cut]\n",
    "LPG_2_spectrum = LPG_2_spectrum[:index_to_cut]\n"
   ]
  },
  {
   "cell_type": "markdown",
   "id": "001e0668",
   "metadata": {},
   "source": [
    "## 2.2. Plot dos dados"
   ]
  },
  {
   "cell_type": "code",
   "execution_count": 72,
   "id": "806f1b4c",
   "metadata": {},
   "outputs": [
    {
     "data": {
      "application/vnd.jupyter.widget-view+json": {
       "model_id": "3bd242069d3b42f28d89c07558817996",
       "version_major": 2,
       "version_minor": 0
      },
      "text/plain": [
       "Canvas(toolbar=Toolbar(toolitems=[('Home', 'Reset original view', 'home', 'home'), ('Back', 'Back to previous …"
      ]
     },
     "metadata": {},
     "output_type": "display_data"
    }
   ],
   "source": [
    "%matplotlib widget\n",
    "fig, ax = plt.subplots(figsize=[8,3])\n",
    "ax.plot(wl, LPG_1_spectrum, ls='-',color='steelblue', label = 'LPG 1 - $\\Lambda = 405 \\mu m$')\n",
    "ax.plot(wl, LPG_2_spectrum, ls='-',color='orange', label = 'LPG 2 - $\\Lambda = 408 \\mu m$')\n",
    "ax.legend()\n",
    "ax.set_xlabel(r'$\\lambda$ (nm)')\n",
    "ax.set_ylabel('Transmission Power (dB)')\n",
    "ax.set_ylim(-25,1)\n",
    "ax.set_xlim(1000,1650)\n",
    "ax.set_title('Spectrum for LPGs obtained from OSA after fabrication')\n",
    "ax.spines['right'].set_visible(False)\n",
    "ax.spines['top'].set_visible(False)\n",
    "fig.tight_layout()\n",
    "plt.savefig('OSA_data.png',dpi=300)"
   ]
  },
  {
   "cell_type": "markdown",
   "id": "b8da6a47",
   "metadata": {},
   "source": [
    "## 2.3. Análise gráfica\n",
    "\n",
    "Identificar bandas de atenuação e apresentar graficamente a análise"
   ]
  },
  {
   "cell_type": "code",
   "execution_count": 73,
   "id": "cf902869",
   "metadata": {},
   "outputs": [
    {
     "data": {
      "application/vnd.jupyter.widget-view+json": {
       "model_id": "c5e6b8875afd4d1ea9a63b5eee9a603e",
       "version_major": 2,
       "version_minor": 0
      },
      "text/plain": [
       "Canvas(toolbar=Toolbar(toolitems=[('Home', 'Reset original view', 'home', 'home'), ('Back', 'Back to previous …"
      ]
     },
     "metadata": {},
     "output_type": "display_data"
    }
   ],
   "source": [
    "### Calcular pontos, mostrar no grafico\n",
    "\n",
    "######plot da regiao de interesse onde queremos calcular o mínimo da banda de atenuacao\n",
    "fig, ax = plt.subplots(figsize=[5,3])\n",
    "ax.plot(wl, LPG_1_spectrum, ls='-',color='steelblue', label = 'LPG 1')\n",
    "ax.plot(wl, LPG_2_spectrum, ls='-',color='orange', label = 'LPG 2')\n",
    "ax.set_xlabel(r'$\\lambda$ (nm)')\n",
    "ax.set_ylabel('Transmission Power (dB)')\n",
    "ax.set_ylim(-25,1)\n",
    "\n",
    "\n",
    "####MODIFICAR AQUI OS LIMITES PARA A REGIAO DE INTERESSE###################\n",
    "ax.set_xlim(1450,1650)\n",
    "\n",
    "\n",
    "######MODIFICAR AQUI##########################################\n",
    "min_lambda_LPG1, min_power_LPG1 = 1579,-19.93 ###modificar aqui\n",
    "\n",
    "#Plot das linhas para o LPG1\n",
    "ax.axvline(min_lambda_LPG1,ls='--',color='steelblue',lw=0.5)\n",
    "ax.axhline(min_power_LPG1,ls='--',color='steelblue',lw=0.5)\n",
    "ax.plot(min_lambda_LPG1,min_power_LPG1,marker='o',color='steelblue')\n",
    "ax.text(min_lambda_LPG1+2,min_power_LPG1+1, '('+str(min_lambda_LPG1)+'nm , '+str(min_power_LPG1) + 'dB)',color='steelblue', horizontalalignment='left')\n",
    "\n",
    "\n",
    "######MODIFICAR AQUI##########################################\n",
    "min_lambda_LPG2, min_power_LPG2 = 1556,-23.48 ###modificar aqui\n",
    "\n",
    "ax.axvline(min_lambda_LPG2,ls='--',color='orange',lw=0.5)\n",
    "ax.axhline(min_power_LPG2,ls='--',color='orange',lw=0.5)\n",
    "ax.plot(min_lambda_LPG2,min_power_LPG2,marker='o',color='orange')\n",
    "ax.text(min_lambda_LPG2-2,min_power_LPG2+1, '('+str(min_lambda_LPG2)+'nm , '+str(min_power_LPG2) + 'dB)',color='orange', horizontalalignment='right')\n",
    "ax.legend()\n",
    "ax.spines['right'].set_visible(False)\n",
    "ax.spines['top'].set_visible(False)\n",
    "\n",
    "fig.tight_layout()\n",
    "\n",
    "plt.savefig('manual_peak1.png',dpi=300)\n"
   ]
  },
  {
   "cell_type": "code",
   "execution_count": 74,
   "id": "d6e51561",
   "metadata": {},
   "outputs": [
    {
     "data": {
      "application/vnd.jupyter.widget-view+json": {
       "model_id": "33495c0a595f4a52a9fb8278d1cda354",
       "version_major": 2,
       "version_minor": 0
      },
      "text/plain": [
       "Canvas(toolbar=Toolbar(toolitems=[('Home', 'Reset original view', 'home', 'home'), ('Back', 'Back to previous …"
      ]
     },
     "metadata": {},
     "output_type": "display_data"
    }
   ],
   "source": [
    "#Fazer para os restantes 3 picos \n",
    "### Calcular pontos, mostrar no grafico\n",
    "\n",
    "######plot da regiao de interesse onde queremos calcular o mínimo da banda de atenuacao\n",
    "fig, ax = plt.subplots(figsize=[5,3])\n",
    "ax.plot(wl, LPG_1_spectrum, ls='-',color='steelblue', label = 'LPG 1')\n",
    "ax.plot(wl, LPG_2_spectrum, ls='-',color='orange', label = 'LPG 2')\n",
    "ax.set_xlabel(r'$\\lambda$ (nm)')\n",
    "ax.set_ylabel('Transmission Power (dB)')\n",
    "ax.set_ylim(-25,1)\n",
    "\n",
    "\n",
    "####MODIFICAR AQUI OS LIMITES PARA A REGIAO DE INTERESSE###################\n",
    "ax.set_xlim(1250,1400)\n",
    "\n",
    "\n",
    "######MODIFICAR AQUI##########################################\n",
    "min_lambda_LPG1, min_power_LPG1 = 1332.8,-15.9 ###modificar aqui\n",
    "\n",
    "#Plot das linhas para o LPG1\n",
    "ax.axvline(min_lambda_LPG1,ls='--',color='steelblue',lw=0.5)\n",
    "ax.axhline(min_power_LPG1,ls='--',color='steelblue',lw=0.5)\n",
    "ax.plot(min_lambda_LPG1,min_power_LPG1,marker='o',color='steelblue')\n",
    "ax.text(min_lambda_LPG1+2,min_power_LPG1+1, '('+str(min_lambda_LPG1)+'nm , '+str(min_power_LPG1) + 'dB)',color='steelblue', horizontalalignment='left')\n",
    "\n",
    "\n",
    "######MODIFICAR AQUI##########################################\n",
    "min_lambda_LPG2, min_power_LPG2 = 1316.9,-14.5 ###modificar aqui\n",
    "\n",
    "ax.axvline(min_lambda_LPG2,ls='--',color='orange',lw=0.5)\n",
    "ax.axhline(min_power_LPG2,ls='--',color='orange',lw=0.5)\n",
    "ax.plot(min_lambda_LPG2,min_power_LPG2,marker='o',color='orange')\n",
    "ax.text(min_lambda_LPG2-2,min_power_LPG2+1, '('+str(min_lambda_LPG2)+'nm , '+str(min_power_LPG2) + 'dB)',color='orange', horizontalalignment='right')\n",
    "ax.legend()\n",
    "ax.spines['right'].set_visible(False)\n",
    "ax.spines['top'].set_visible(False)\n",
    "\n",
    "fig.tight_layout()\n",
    "plt.savefig('manual_peak2.png',dpi=300)\n"
   ]
  },
  {
   "cell_type": "code",
   "execution_count": 75,
   "id": "6203831b",
   "metadata": {},
   "outputs": [
    {
     "data": {
      "application/vnd.jupyter.widget-view+json": {
       "model_id": "7c614a0bc2444513b7b3aa05c0c46495",
       "version_major": 2,
       "version_minor": 0
      },
      "text/plain": [
       "Canvas(toolbar=Toolbar(toolitems=[('Home', 'Reset original view', 'home', 'home'), ('Back', 'Back to previous …"
      ]
     },
     "metadata": {},
     "output_type": "display_data"
    }
   ],
   "source": [
    "#Fazer para os restantes 3 picos \n",
    "### Calcular pontos, mostrar no grafico\n",
    "\n",
    "######plot da regiao de interesse onde queremos calcular o mínimo da banda de atenuacao\n",
    "fig, ax = plt.subplots(figsize=[5,3])\n",
    "ax.plot(wl, LPG_1_spectrum, ls='-',color='steelblue', label = 'LPG 1')\n",
    "ax.plot(wl, LPG_2_spectrum, ls='-',color='orange', label = 'LPG 2')\n",
    "ax.set_xlabel(r'$\\lambda$ (nm)')\n",
    "ax.set_ylabel('Transmission Power (dB)')\n",
    "ax.set_ylim(-25,1)\n",
    "\n",
    "\n",
    "####MODIFICAR AQUI OS LIMITES PARA A REGIAO DE INTERESSE###################\n",
    "ax.set_xlim(1200,1260)\n",
    "\n",
    "\n",
    "######MODIFICAR AQUI##########################################\n",
    "min_lambda_LPG1, min_power_LPG1 = 1231.5,-17.6 ###modificar aqui\n",
    "\n",
    "#Plot das linhas para o LPG1\n",
    "ax.axvline(min_lambda_LPG1,ls='--',color='steelblue',lw=0.5)\n",
    "ax.axhline(min_power_LPG1,ls='--',color='steelblue',lw=0.5)\n",
    "ax.plot(min_lambda_LPG1,min_power_LPG1,marker='o',color='steelblue')\n",
    "ax.text(min_lambda_LPG1+2,min_power_LPG1+1, '('+str(min_lambda_LPG1)+'nm , '+str(min_power_LPG1) + 'dB)',color='steelblue', horizontalalignment='left')\n",
    "\n",
    "\n",
    "######MODIFICAR AQUI##########################################\n",
    "min_lambda_LPG2, min_power_LPG2 = 1219.8,-18.5 ###modificar aqui\n",
    "\n",
    "ax.axvline(min_lambda_LPG2,ls='--',color='orange',lw=0.5)\n",
    "ax.axhline(min_power_LPG2,ls='--',color='orange',lw=0.5)\n",
    "ax.plot(min_lambda_LPG2,min_power_LPG2,marker='o',color='orange')\n",
    "ax.text(min_lambda_LPG2-2,min_power_LPG2+1, '('+str(min_lambda_LPG2)+'nm , '+str(min_power_LPG2) + 'dB)',color='orange', horizontalalignment='right')\n",
    "ax.legend()\n",
    "ax.spines['right'].set_visible(False)\n",
    "ax.spines['top'].set_visible(False)\n",
    "\n",
    "fig.tight_layout()\n",
    "plt.savefig('manual_peak3.png',dpi=300)"
   ]
  },
  {
   "cell_type": "code",
   "execution_count": 76,
   "id": "bc65a786",
   "metadata": {},
   "outputs": [
    {
     "data": {
      "application/vnd.jupyter.widget-view+json": {
       "model_id": "a881c8f530b14526a1f0c0edc09fbfa2",
       "version_major": 2,
       "version_minor": 0
      },
      "text/plain": [
       "Canvas(toolbar=Toolbar(toolitems=[('Home', 'Reset original view', 'home', 'home'), ('Back', 'Back to previous …"
      ]
     },
     "metadata": {},
     "output_type": "display_data"
    }
   ],
   "source": [
    "#Fazer para os restantes 3 picos \n",
    "### Calcular pontos, mostrar no grafico\n",
    "\n",
    "######plot da regiao de interesse onde queremos calcular o mínimo da banda de atenuacao\n",
    "fig, ax = plt.subplots(figsize=[5,3])\n",
    "ax.plot(wl, LPG_1_spectrum, ls='-',color='steelblue', label = 'LPG 1')\n",
    "ax.plot(wl, LPG_2_spectrum, ls='-',color='orange', label = 'LPG 2')\n",
    "ax.set_xlabel(r'$\\lambda$ (nm)')\n",
    "ax.set_ylabel('Transmission Power (dB)')\n",
    "ax.set_ylim(-25,1)\n",
    "\n",
    "\n",
    "####MODIFICAR AQUI OS LIMITES PARA A REGIAO DE INTERESSE###################\n",
    "ax.set_xlim(1140,1200)\n",
    "\n",
    "\n",
    "######MODIFICAR AQUI##########################################\n",
    "min_lambda_LPG1, min_power_LPG1 = 1176.5,-9.1 ###modificar aqui\n",
    "\n",
    "#Plot das linhas para o LPG1\n",
    "ax.axvline(min_lambda_LPG1,ls='--',color='steelblue',lw=0.5)\n",
    "ax.axhline(min_power_LPG1,ls='--',color='steelblue',lw=0.5)\n",
    "ax.plot(min_lambda_LPG1,min_power_LPG1,marker='o',color='steelblue')\n",
    "ax.text(min_lambda_LPG1+2,min_power_LPG1+1, '('+str(min_lambda_LPG1)+'nm , '+str(min_power_LPG1) + 'dB)',color='steelblue', horizontalalignment='left')\n",
    "\n",
    "\n",
    "######MODIFICAR AQUI##########################################\n",
    "min_lambda_LPG2, min_power_LPG2 = 1166.7,-7.7 ###modificar aqui\n",
    "\n",
    "ax.axvline(min_lambda_LPG2,ls='--',color='orange',lw=0.5)\n",
    "ax.axhline(min_power_LPG2,ls='--',color='orange',lw=0.5)\n",
    "ax.plot(min_lambda_LPG2,min_power_LPG2,marker='o',color='orange')\n",
    "ax.text(min_lambda_LPG2-2,min_power_LPG2+1, '('+str(min_lambda_LPG2)+'nm , '+str(min_power_LPG2) + 'dB)',color='orange', horizontalalignment='right')\n",
    "ax.legend()\n",
    "ax.spines['right'].set_visible(False)\n",
    "ax.spines['top'].set_visible(False)\n",
    "\n",
    "fig.tight_layout()\n",
    "plt.savefig('manual_peak4.png',dpi=300)"
   ]
  },
  {
   "cell_type": "markdown",
   "id": "50621713",
   "metadata": {},
   "source": [
    "## 2.5 Fit automático com uma gaussiana"
   ]
  },
  {
   "cell_type": "code",
   "execution_count": 10,
   "id": "15eb5311",
   "metadata": {},
   "outputs": [],
   "source": [
    "######Funcoes para o fit automatico######\n",
    "#### na prática vamos usar a função mais abaixo - iterative_find_minimum_gaussian(wl, sp, range_min, range_max, delta)\n",
    "\n",
    "from scipy.optimize import curve_fit\n",
    "\n",
    "def gaussian(x, a, b, c):\n",
    "    return a * np.exp(-0.5 * ((x - b) / c)**2)\n",
    "\n",
    "\n",
    "def find_minimum_gaussian(wl, sp, range_min=1550, range_max=1600):\n",
    "    # Filter data within the specified range\n",
    "    mask = (wl >= range_min) & (wl <= range_max)\n",
    "    x_data = wl[mask]\n",
    "    y_data = sp[mask]\n",
    "\n",
    "    if len(x_data) == 0:\n",
    "        return None, None\n",
    "\n",
    "    # Initial guesses for Gaussian parameters:\n",
    "    # a: amplitude (estimated from y_data min),\n",
    "    # b: mean (estimated from x_data corresponding to y_data min),\n",
    "    # c: std dev (rough guess based on the range width)\n",
    "    initial_guess = [min(y_data), x_data[np.argmin(y_data)], (range_max - range_min) / 6]\n",
    "    \n",
    "    try:\n",
    "        # Fit the Gaussian model\n",
    "        params, _ = curve_fit(gaussian, x_data, y_data, p0=initial_guess)\n",
    "        # Compute the minimum of the Gaussian fit\n",
    "        a, b, c = params\n",
    "        gaussian_min = gaussian(b, *params)  # Gaussian minimum at the center b\n",
    "        return b, gaussian_min, x_data, gaussian(x_data, *params)\n",
    "    except Exception as e:\n",
    "        print(f\"Fit error: {e}\")\n",
    "        return None, None\n",
    "    \n",
    "\n",
    "#####################################3\n",
    "\n",
    "def iterative_find_minimum_gaussian(wl, sp, range_min=1550, range_max=1600, delta=5):\n",
    "    #encontra 2 vezes consecutivas o mínimo, fazendo o improvement da estimativa\n",
    "    min_wavelength, min_intensity, xregion, yfit = find_minimum_gaussian(wl, sp, range_min=range_min, range_max=range_max)\n",
    "    return find_minimum_gaussian(wl, sp, range_min=min_wavelength-delta, range_max=min_wavelength+delta)\n",
    "\n",
    "\n",
    "def iterative_find_minimum_gaussian(wl, sp, range_min=1550, range_max=1600, delta=5,delta2=5):\n",
    "    #encontra 2 vezes consecutivas o mínimo, fazendo o improvement da estimativa\n",
    "    min_wavelength, min_intensity, xregion, yfit = find_minimum_gaussian(wl, sp, range_min=range_min, range_max=range_max)\n",
    "    return find_minimum_gaussian(wl, sp, range_min=min_wavelength-delta, range_max=min_wavelength+delta)\n",
    "    \n"
   ]
  },
  {
   "cell_type": "code",
   "execution_count": 77,
   "id": "ee0100cb",
   "metadata": {},
   "outputs": [
    {
     "name": "stdout",
     "output_type": "stream",
     "text": [
      "LPG1 - Minimum occurs at 1578.36074297785 nm with intensity -19.547623076068202\n"
     ]
    },
    {
     "data": {
      "application/vnd.jupyter.widget-view+json": {
       "model_id": "04743ef3829c40e4860fc2d6117a5a23",
       "version_major": 2,
       "version_minor": 0
      },
      "text/plain": [
       "Canvas(toolbar=Toolbar(toolitems=[('Home', 'Reset original view', 'home', 'home'), ('Back', 'Back to previous …"
      ]
     },
     "metadata": {},
     "output_type": "display_data"
    },
    {
     "name": "stdout",
     "output_type": "stream",
     "text": [
      "LPG2 - Minimum occurs at 1555.9282580449385 nm with intensity -23.233306094555235\n"
     ]
    }
   ],
   "source": [
    "# Exemplo de utilização\n",
    "\n",
    "\n",
    "##First iteration - encontra minimo entre 1550 e 1600 - podemos modificar\n",
    "min_wavelength, min_intensity, xregion, yfit = iterative_find_minimum_gaussian(wl, LPG_1_spectrum,range_min = 1550, range_max=1600,delta=5)\n",
    "print(f\"LPG1 - Minimum occurs at {min_wavelength} nm with intensity {min_intensity}\")\n",
    "\n",
    "### Calcular pontos, mostrar no grafico\n",
    "\n",
    "fig, ax = plt.subplots(figsize=[5,3])\n",
    "ax.plot(wl, LPG_1_spectrum, ls='-',color='steelblue', label = 'LPG 1')\n",
    "ax.plot(xregion, yfit, ls='--',color='red', label = 'Gaussian Fit')\n",
    "ax.plot(min_wavelength, min_intensity, marker='o',color='red', label = 'Minimum',mec='k')\n",
    "\n",
    "###################################################\n",
    "###EXERCICIO: Fazer para o LPG2\n",
    "\n",
    "##First iteration - encontra minimo entre 1550 e 1600 - podemos modificar\n",
    "min_wavelength, min_intensity, xregion, yfit = iterative_find_minimum_gaussian(wl, LPG_2_spectrum,range_min = 1500, range_max=1600,delta=5)\n",
    "print(f\"LPG2 - Minimum occurs at {min_wavelength} nm with intensity {min_intensity}\")\n",
    "\n",
    "ax.plot(wl, LPG_2_spectrum, ls='-',color='orange', label = 'LPG 2')\n",
    "ax.plot(xregion, yfit, ls='--',color='green', label = 'Gaussian Fit')\n",
    "ax.plot(min_wavelength, min_intensity, marker='o',color='green', label = 'Minimum',mec='k')\n",
    "\n",
    "\n",
    "ax.set_xlabel(r'$\\lambda$ (nm)')\n",
    "ax.set_ylabel('Transmission Power (dB)')\n",
    "ax.set_ylim(-25,1)\n",
    "ax.set_xlim(1500,1650)\n",
    "ax.legend()\n",
    "fig.tight_layout()\n",
    "plt.savefig('automatic_peakfitting.png',dpi=300)"
   ]
  },
  {
   "cell_type": "code",
   "execution_count": 12,
   "id": "f77ef4f9",
   "metadata": {},
   "outputs": [
    {
     "name": "stdout",
     "output_type": "stream",
     "text": [
      "LPG1 - Minimum occurs at 1333.0964265971868 nm with intensity -15.805093520532223\n"
     ]
    },
    {
     "data": {
      "application/vnd.jupyter.widget-view+json": {
       "model_id": "f9ca5cab7c8840f2ab99c9ccded7c242",
       "version_major": 2,
       "version_minor": 0
      },
      "text/plain": [
       "Canvas(toolbar=Toolbar(toolitems=[('Home', 'Reset original view', 'home', 'home'), ('Back', 'Back to previous …"
      ]
     },
     "metadata": {},
     "output_type": "display_data"
    },
    {
     "name": "stdout",
     "output_type": "stream",
     "text": [
      "LPG2 - Minimum occurs at 1317.2732842847452 nm with intensity -14.375159484329133\n"
     ]
    }
   ],
   "source": [
    "# Repetir para mais um dos picos\n",
    "# Exemplo de utilização\n",
    "\n",
    "\n",
    "##First iteration - encontra minimo entre 1550 e 1600 - podemos modificar\n",
    "min_wavelength, min_intensity, xregion, yfit = iterative_find_minimum_gaussian(wl, LPG_1_spectrum,range_min = 1250, range_max=1400,delta=5)\n",
    "print(f\"LPG1 - Minimum occurs at {min_wavelength} nm with intensity {min_intensity}\")\n",
    "\n",
    "### Calcular pontos, mostrar no grafico\n",
    "\n",
    "fig, ax = plt.subplots(figsize=[5,3])\n",
    "ax.plot(wl, LPG_1_spectrum, ls='-',color='steelblue', label = 'LPG 1')\n",
    "ax.plot(xregion, yfit, ls='--',color='red', label = 'Gaussian Fit')\n",
    "ax.plot(min_wavelength, min_intensity, marker='o',color='red', label = 'Minimum',mec='k')\n",
    "\n",
    "###################################################\n",
    "###EXERCICIO: Fazer para o LPG2\n",
    "\n",
    "##First iteration - encontra minimo entre 1550 e 1600 - podemos modificar\n",
    "min_wavelength, min_intensity, xregion, yfit = iterative_find_minimum_gaussian(wl, LPG_2_spectrum,range_min = 1250, range_max=1400,delta=5)\n",
    "print(f\"LPG2 - Minimum occurs at {min_wavelength} nm with intensity {min_intensity}\")\n",
    "\n",
    "ax.plot(wl, LPG_2_spectrum, ls='-',color='orange', label = 'LPG 2')\n",
    "ax.plot(xregion, yfit, ls='--',color='green', label = 'Gaussian Fit')\n",
    "ax.plot(min_wavelength, min_intensity, marker='o',color='green', label = 'Minimum',mec='k')\n",
    "\n",
    "\n",
    "ax.set_xlabel(r'$\\lambda$ (nm)')\n",
    "ax.set_ylabel('Transmission Power (dB)')\n",
    "ax.set_ylim(-25,1)\n",
    "ax.set_xlim(1250,1400)\n",
    "ax.legend()\n",
    "fig.tight_layout()"
   ]
  },
  {
   "cell_type": "markdown",
   "id": "2b6d8635",
   "metadata": {},
   "source": [
    "# 2.4 Análise quantitativa\n",
    "\n",
    "a. Tentem determinar para cada caso o $(n^{eff}_{core}-n^{eff}_{cladding})$ tendo em conta o período dos LPGs fabricados. Comentem os resultados."
   ]
  },
  {
   "cell_type": "code",
   "execution_count": 13,
   "id": "1f33f318",
   "metadata": {},
   "outputs": [
    {
     "data": {
      "text/plain": [
       "[22]"
      ]
     },
     "execution_count": 13,
     "metadata": {},
     "output_type": "execute_result"
    }
   ],
   "source": [
    "## Quanto varia quando comparado com os parâmetros alterados?\n",
    "## calcular para cada pico delta lamba = lambda2 - lambda 1 e representar em função de \n",
    "#direita\n",
    "delta_lambda = [1578-1556]\n",
    "delta_lambda"
   ]
  },
  {
   "cell_type": "markdown",
   "id": "0b293b77",
   "metadata": {},
   "source": [
    "## 4. Caracterização em função do índice de refracção externo\n",
    "\n",
    "Depois da fabricação:\n",
    "1. Fazemos um splice para cada LPG com 2 fibras com conector em cada lado;\n",
    "2. Preparamos amostras de referência com diferentes índices de refracção;\n",
    "3. Na unidade de interrogação determinamos a variação do mínimo da banda de atenuação."
   ]
  },
  {
   "cell_type": "markdown",
   "id": "28bc8bfe",
   "metadata": {},
   "source": [
    "## 4.1 Load dos Dados"
   ]
  },
  {
   "cell_type": "code",
   "execution_count": 25,
   "id": "cf563036",
   "metadata": {},
   "outputs": [],
   "source": [
    "import pandas as pd\n",
    "\n",
    "def read_spectral_data(file_path):\n",
    "    # Read the Excel file\n",
    "    timestamp = file_path.split('_')[-1].split('.')[0]\n",
    "    df = pd.read_csv(file_path,sep=\"\\t\")\n",
    "    \n",
    "    # Assume the first column is 'Wavelength' and the others are 'Channel 1', 'Channel 2', etc.\n",
    "    wavelength = df['Wavelength (nm)'].values\n",
    "    channels = [df[column].values for column in df.columns if 'Spectra' in column]\n",
    "    \n",
    "    # Return the wavelength array and the channel arrays\n",
    "    return wavelength, channels[2],channels[3], timestamp"
   ]
  },
  {
   "cell_type": "markdown",
   "id": "c0858f86",
   "metadata": {},
   "source": [
    "### 4.1.1. Exemplo e plot"
   ]
  },
  {
   "cell_type": "code",
   "execution_count": 78,
   "id": "8c364087",
   "metadata": {},
   "outputs": [
    {
     "data": {
      "application/vnd.jupyter.widget-view+json": {
       "model_id": "0a185db81458430199d3a540e0f3b974",
       "version_major": 2,
       "version_minor": 0
      },
      "text/plain": [
       "Canvas(toolbar=Toolbar(toolitems=[('Home', 'Reset original view', 'home', 'home'), ('Back', 'Back to previous …"
      ]
     },
     "metadata": {},
     "output_type": "display_data"
    },
    {
     "name": "stdout",
     "output_type": "stream",
     "text": [
      "LPG1 - Minimum occurs at 1556.948157209055 nm with intensity -30.73098853679664\n",
      "LPG2 - Minimum occurs at 1578.799295294784 nm with intensity -20.603805510450368\n"
     ]
    }
   ],
   "source": [
    "# Exemplo do resultado de cada dado\n",
    "file_path = 'dados_interrogacao/Aquisicao_1/Spectra-10-05-2024_16-47-45-.916.xls'\n",
    "wavelength, data_lpg1, data_lpg2, timestamp = read_spectral_data(file_path)\n",
    "\n",
    "fig,ax = plt.subplots(figsize=[6,3])\n",
    "ax.plot(wavelength, data_lpg1,ls='-',color='steelblue',label='LPG 1')\n",
    "ax.plot(wavelength, data_lpg2,ls='-',color='orange',label='LPG 2')\n",
    "ax.set_xlabel('$\\lambda (nm)$')\n",
    "ax.set_ylabel('Transmission power (dB)')\n",
    "ax.legend()\n",
    "fig.tight_layout()\n",
    "\n",
    "##First iteration - encontra minimo entre 1550 e 1600 - podemos modificar\n",
    "min_wavelength, min_intensity, xregion, yfit = iterative_find_minimum_gaussian(wavelength, data_lpg1,range_min = 1520, range_max=1600,delta=2)\n",
    "print(f\"LPG1 - Minimum occurs at {min_wavelength} nm with intensity {min_intensity}\")\n",
    "ax.plot(xregion, yfit, ls='--',color='green', label = 'Gaussian Fit')\n",
    "ax.plot(min_wavelength, min_intensity, marker='o',color='green', label = 'Minimum',mec='k')\n",
    "\n",
    "min_wavelength, min_intensity, xregion, yfit = iterative_find_minimum_gaussian(wavelength, data_lpg2,range_min = 1520, range_max=1600,delta=2)\n",
    "print(f\"LPG2 - Minimum occurs at {min_wavelength} nm with intensity {min_intensity}\")\n",
    "ax.plot(xregion, yfit, ls='--',color='red', label = 'Gaussian Fit')\n",
    "ax.plot(min_wavelength, min_intensity, marker='o',color='green', label = 'Minimum',mec='k')\n",
    "\n",
    "plt.savefig('automatic_interrogation_smaller_range.png',dpi=300)\n"
   ]
  },
  {
   "cell_type": "markdown",
   "id": "80eae787",
   "metadata": {},
   "source": [
    "## 4.1.2 Timeline e identificação de momentos para calibracao\n",
    "\n",
    "Aqui representamos os dados obtidos na timeline só para identificar os momentos e os ficheiros associados."
   ]
  },
  {
   "cell_type": "code",
   "execution_count": 29,
   "id": "549b76a5",
   "metadata": {},
   "outputs": [],
   "source": [
    "import datetime\n",
    "from datetime import datetime\n",
    "import matplotlib.dates\n",
    "\n",
    "#ler os dados da timeline\n",
    "\n",
    "file_timeline = 'dados_interrogacao/-2024-05-10.xls'\n",
    "df = pd.read_csv(file_timeline,sep=\"\\t\")\n",
    "elapsed_time = df['Time(HHMMSS.3us)']\n",
    "signal = df['Norm. CH2']\n",
    "\n",
    "# uma funcao para ajudar na conversao e na representacao abaixo\n",
    "\n",
    "def hhmmss_to_datetime(time_str):\n",
    "    # Base date (today)\n",
    "    base_date = datetime.today().date().isoformat()\n",
    "    # Extract microseconds, limiting to first 6 digits if longer\n",
    "    hh, mm, ss, micro = time_str[:2], time_str[2:4], time_str[4:6], time_str[7:]\n",
    "    if len(micro) > 6:\n",
    "        micro = micro[:6]  # Truncate to microseconds (6 digits)\n",
    "    time_str_full = f\"{base_date} {hh}:{mm}:{ss}.{micro}\"\n",
    "    return datetime.strptime(time_str_full, '%Y-%m-%d %H:%M:%S.%f')\n",
    "\n",
    "# Apply conversion to create datetime objects\n",
    "datetime_series = df['Time(HHMMSS.3us)'].astype(str).apply(hhmmss_to_datetime)\n"
   ]
  },
  {
   "cell_type": "code",
   "execution_count": 79,
   "id": "f99ec275",
   "metadata": {},
   "outputs": [
    {
     "data": {
      "application/vnd.jupyter.widget-view+json": {
       "model_id": "3739f3b727454e40a1313aee6bda28b6",
       "version_major": 2,
       "version_minor": 0
      },
      "text/plain": [
       "Canvas(toolbar=Toolbar(toolitems=[('Home', 'Reset original view', 'home', 'home'), ('Back', 'Back to previous …"
      ]
     },
     "metadata": {},
     "output_type": "display_data"
    }
   ],
   "source": [
    "fig,ax = plt.subplots(figsize=[10,2])\n",
    "ax.plot(datetime_series, signal)\n",
    "ax.set_xlabel('Timestamp')\n",
    "ax.set_ylabel('Minimum (nm)')\n",
    "\n",
    "folders = ['dados_interrogacao//Aquisicao_'+str(i)+'//' for i in range(1,22)]\n",
    "for i in range(len(folders)):\n",
    "    list_files = os.listdir(folders[i])\n",
    "    base_date = datetime.today().date().isoformat()\n",
    "\n",
    "    string_time = list_files[0].split('_')[-1].split('.xls')[0]\n",
    "    hh, mm, ss, micro = string_time[:2], string_time[3:5], string_time[6:8], string_time[11:]\n",
    "    time_str_full = f\"{base_date} {hh}:{mm}:{ss}.{micro}\"\n",
    "    time_stamp = datetime.strptime(time_str_full, '%Y-%m-%d %H:%M:%S.%f')\n",
    "    \n",
    "    ax.axvline(time_stamp,color='gray',ls='--')\n",
    "    ax.text(x=time_stamp,y=1558,s=str(i+1),horizontalalignment='center',color='gray')\n",
    "\n",
    "plt.savefig('timeline_for_calibration.png',dpi=300)"
   ]
  },
  {
   "cell_type": "markdown",
   "id": "aa6d631d",
   "metadata": {},
   "source": [
    "## 4.2 Pipeline de Processamento automático\n",
    "\n",
    "Com base na análise anterior foram criadas pastas denominadas Aquisicao_i para cada aquisicao representada, com 10 espectros a comecar no momento indicado acima.\n",
    "\n",
    "Agora vamos ler estes dados, calcular o mínimo para cada espectro."
   ]
  },
  {
   "cell_type": "code",
   "execution_count": 35,
   "id": "f53f4cd9",
   "metadata": {},
   "outputs": [
    {
     "name": "stdout",
     "output_type": "stream",
     "text": [
      "Processing folder 21 of 21\r"
     ]
    }
   ],
   "source": [
    "folders = ['dados_interrogacao//Aquisicao_'+str(i)+'//' for i in range(1,22)]\n",
    "refractive_index = []\n",
    "\n",
    "min_LPG1 = []\n",
    "std_LPG1 = []\n",
    "min_LPG2 = []\n",
    "std_LPG2 = []\n",
    "\n",
    "for i in range(len(folders)):\n",
    "    #em cada folder\n",
    "    print('Processing folder '+str(i+1)+' of '+str(len(folders)),end='\\r')\n",
    "\n",
    "    #le todos os ficheiros\n",
    "    list_files = os.listdir(folders[i])\n",
    "    \n",
    "    list_of_minimums_lpg1 = []\n",
    "    list_of_minimums_lpg2 = []\n",
    "\n",
    "    for file in list_files:\n",
    "        #em cada ficheiro le os dados antes de calcular o minimo\n",
    "        wavelength, data_lpg1, data_lpg2, timestamp = read_spectral_data(folders[i] + file)\n",
    "\n",
    "        ##########LPG1##################\n",
    "        #calcula o minimo\n",
    "        min_wavelength_LPG1, min_intensity, xregion, yfit = iterative_find_minimum_gaussian(wavelength, data_lpg1,range_min = 1520, range_max=1600,delta=2)\n",
    "        #cola a uma lista definida em cima\n",
    "        list_of_minimums_lpg1.append(min_wavelength_LPG1)\n",
    "\n",
    "        ##########LPG2##################\n",
    "        #igual para o 2\n",
    "        min_wavelength_LPG2, min_intensity, xregion, yfit = iterative_find_minimum_gaussian(wavelength, data_lpg2,range_min = 1520, range_max=1600,delta=2)\n",
    "        list_of_minimums_lpg2.append(min_wavelength_LPG2)\n",
    "\n",
    "    #adiciona aos dados finais a média das medições do LPG1\n",
    "    min_LPG1.append(np.mean(list_of_minimums_lpg1))\n",
    "    std_LPG1.append(np.std(list_of_minimums_lpg1))\n",
    "\n",
    "    #adiciona aos dados finais a média das medições do LPG2\n",
    "    min_LPG2.append(np.mean(list_of_minimums_lpg2))\n",
    "    std_LPG2.append(np.std(list_of_minimums_lpg2))\n"
   ]
  },
  {
   "cell_type": "markdown",
   "id": "bde2c9ab",
   "metadata": {},
   "source": [
    "## 4.2.1. Análise de dados em função do número da medição\n",
    "\n",
    "Para introduzir os datasets e olhar como variaram as medições. \n",
    "\n",
    "Será que o resultado para as medições no ar variaram? Era suposto? O que aconteceu?"
   ]
  },
  {
   "cell_type": "code",
   "execution_count": 36,
   "id": "fbe5f39c",
   "metadata": {},
   "outputs": [
    {
     "data": {
      "application/vnd.jupyter.widget-view+json": {
       "model_id": "66393b5264f940738e0695f66c387355",
       "version_major": 2,
       "version_minor": 0
      },
      "text/plain": [
       "Canvas(toolbar=Toolbar(toolitems=[('Home', 'Reset original view', 'home', 'home'), ('Back', 'Back to previous …"
      ]
     },
     "metadata": {},
     "output_type": "display_data"
    },
    {
     "data": {
      "application/vnd.jupyter.widget-view+json": {
       "model_id": "f00c3abf3d344a01b8acf31575ae3bca",
       "version_major": 2,
       "version_minor": 0
      },
      "text/plain": [
       "Canvas(toolbar=Toolbar(toolitems=[('Home', 'Reset original view', 'home', 'home'), ('Back', 'Back to previous …"
      ]
     },
     "metadata": {},
     "output_type": "display_data"
    }
   ],
   "source": [
    "##vamos saltar dados de 2 em 2 e gravar em duas listas separadas, calibration e water para cada LPG\n",
    "min_LPG1_calibration = min_LPG1[1::2]\n",
    "min_LPG1_air = min_LPG1[::2]\n",
    "\n",
    "min_LPG2_calibration = min_LPG2[1::2]\n",
    "min_LPG2_air = min_LPG2[::2]\n",
    "\n",
    "##evolucao da medicao da água\n",
    "fig,ax = plt.subplots(figsize=[5,3])\n",
    "ax.plot(min_LPG1_air,'o',ls='--',lw=0.5,color='steelblue')\n",
    "ax.set_xlabel('# medição')\n",
    "ax.set_ylabel('Min. Wavelength -\\n Air (nm)',color='steelblue')\n",
    "\n",
    "ax1 = ax.twinx()\n",
    "ax1.plot(min_LPG1_calibration,'*',color='red',ls='--',lw=0.5)\n",
    "ax1.set_ylabel('Min. Wavelength -\\n Calibration (nm)',color='red')\n",
    "ax.set_title('Evolução do mínimo com medições')\n",
    "fig.tight_layout()\n",
    "\n",
    "##evolucao da medicao da água\n",
    "fig,ax = plt.subplots(figsize=[5,3])\n",
    "ax.plot(min_LPG2_air,'o',ls='--',lw=0.5,color='steelblue')\n",
    "ax.set_xlabel('# medição')\n",
    "ax.set_ylabel('Min. Wavelength -\\n Air (nm)',color='steelblue')\n",
    "\n",
    "ax1 = ax.twinx()\n",
    "ax1.plot(min_LPG2_calibration,'*',color='red',ls='--',lw=0.5)\n",
    "ax1.set_ylabel('Min. Wavelength -\\n Calibration (nm)',color='red')\n",
    "ax.set_title('Evolução do mínimo com medições')\n",
    "fig.tight_layout()\n",
    "\n"
   ]
  },
  {
   "cell_type": "markdown",
   "id": "016c1265",
   "metadata": {},
   "source": [
    "## 4.3 Resultado da calibração"
   ]
  },
  {
   "cell_type": "code",
   "execution_count": 56,
   "id": "89ac08aa",
   "metadata": {},
   "outputs": [],
   "source": [
    "import numpy as np\n",
    "from scipy.stats import linregress\n",
    "\n",
    "def fit_linear_function(x, y):\n",
    "    # Ensure x and y are numpy arrays\n",
    "    x = np.array(x)\n",
    "    y = np.array(y)\n",
    "\n",
    "    # Perform linear regression using scipy's linregress\n",
    "    slope, intercept, r_value, p_value, std_err = linregress(x, y)\n",
    "\n",
    "    # Calculate variances of slope and intercept\n",
    "    n = len(x)\n",
    "    mean_x = np.mean(x)\n",
    "    s_xx = np.sum((x - mean_x) ** 2)\n",
    "    \n",
    "    # Variance of slope\n",
    "    var_slope = (std_err ** 2) / s_xx\n",
    "    \n",
    "    # Variance of intercept\n",
    "    var_intercept = (std_err ** 2) * (np.sum(x ** 2) / (n * s_xx))\n",
    "\n",
    "    return slope, intercept, var_slope, var_intercept,r_value\n",
    "\n",
    "\n"
   ]
  },
  {
   "cell_type": "code",
   "execution_count": 81,
   "id": "5edb3d31",
   "metadata": {},
   "outputs": [
    {
     "data": {
      "application/vnd.jupyter.widget-view+json": {
       "model_id": "85e1036e7b2c43c3a9353b44ee1a1fa6",
       "version_major": 2,
       "version_minor": 0
      },
      "text/plain": [
       "Canvas(toolbar=Toolbar(toolitems=[('Home', 'Reset original view', 'home', 'home'), ('Back', 'Back to previous …"
      ]
     },
     "metadata": {},
     "output_type": "display_data"
    },
    {
     "name": "stdout",
     "output_type": "stream",
     "text": [
      "Slope (m): -97.83990291412867\n",
      "Intercept (b): 1677.8300708849226\n",
      "Variance of Slope: 605284.7217727953\n",
      "Variance of Intercept: 1100143.5233267145\n",
      "Slope (m): -157.98964684289072\n",
      "Intercept (b): 1758.2615405618426\n",
      "Variance of Slope: 218928.9365266318\n",
      "Variance of Intercept: 395731.04193102266\n",
      "Slope (m): -34.48018468260206\n",
      "Intercept (b): 1618.2784843026664\n",
      "Variance of Slope: 12407.2654913057\n",
      "Variance of Intercept: 22550.995063078273\n"
     ]
    }
   ],
   "source": [
    "### A. Fazer plot dos dados em funcao da \n",
    "##vamos saltar dados de 2 em 2 e gravar em duas listas separadas, calibration e water para cada LPG\n",
    "min_LPG1_calibration = min_LPG1[1::2]\n",
    "min_LPG1_air = min_LPG1[::2]\n",
    "\n",
    "min_LPG2_calibration = min_LPG2[1::2]\n",
    "min_LPG2_air = min_LPG2[::2]\n",
    "\n",
    "##evolucao da medicao da água\n",
    "\n",
    "\n",
    "##evolucao da medicao da água\n",
    "fig,ax = plt.subplots(1,2,figsize=[10,4])\n",
    "ns= np.array([1.3327, 1.3370, 1.3398, 1.3438, 1.3467, 1.3531, 1.3595, 1.3663, 1.3695, 1.3327])\n",
    "\n",
    "\n",
    "\n",
    "####FIT LPG1\n",
    "ax[0].plot(ns, min_LPG1_calibration,'*',color='steelblue',ls='none',lw=0.5)\n",
    "\n",
    "slope1, intercept1, var_slope1, var_intercept1,r_value1 = fit_linear_function(ns, min_LPG1_calibration)\n",
    "print(\"Slope (m):\", slope1)\n",
    "print(\"Intercept (b):\", intercept1)\n",
    "print(\"Variance of Slope:\", var_slope1)\n",
    "print(\"Variance of Intercept:\", var_intercept1)\n",
    "\n",
    "ax[0].plot(ns, slope1*ns + intercept1 ,ls = '-' ,color='steelblue',lw=0.5,label='Fit: m='+str(np.round(slope1,1))+', b='+str(np.round(intercept1,1))+', $r^2$='+str(-np.round(r_value1,3)))\n",
    "ax[0].legend()\n",
    "\n",
    "\n",
    "ns11 = np.array([1.3327, 1.3370, 1.3398, 1.3438, 1.3467, 1.3531, 1.3695, 1.3327])\n",
    "min_LPG1_calibration11 = np.array([1547.1160497784917,\n",
    " 1547.194774615927,\n",
    " 1546.003030903902,\n",
    " 1546.3361135634116,\n",
    " 1545.4580856164357,\n",
    " 1544.3059279909899,\n",
    " 1541.9875678698043,\n",
    " 1548.4647254664371])\n",
    "slope11, intercept11, var_slope11, var_intercept11,r_value11 = fit_linear_function(ns11, min_LPG1_calibration11)\n",
    "print(\"Slope (m):\", slope11)\n",
    "print(\"Intercept (b):\", intercept11)\n",
    "print(\"Variance of Slope:\", var_slope11)\n",
    "print(\"Variance of Intercept:\", var_intercept11)\n",
    "\n",
    "ax[0].plot(ns11, min_LPG1_calibration11,'o',fillstyle='none',color='red',ls='none',lw=0.5)\n",
    "\n",
    "ax[0].plot(ns11, slope11*ns11 + intercept11 ,ls = '--' ,color='red',lw=0.5,label='Fit: m='+str(np.round(slope11,1))+\n",
    "                                ', b='+str(np.round(intercept11,1))+', $r^2$='+str(-np.round(r_value11,3)))\n",
    "ax[0].legend()\n",
    "\n",
    "\n",
    "####FIT LPG2\n",
    "ax[1].plot(ns, min_LPG2_calibration,'*',color='green',ls='none',lw=0.5)\n",
    "slope2, intercept2, var_slope2, var_intercept2,r_value2 = fit_linear_function(ns, min_LPG2_calibration)\n",
    "print(\"Slope (m):\", slope2)\n",
    "print(\"Intercept (b):\", intercept2)\n",
    "print(\"Variance of Slope:\", var_slope2)\n",
    "print(\"Variance of Intercept:\", var_intercept2)\n",
    "ax[1].plot(ns, slope2*ns + intercept2 ,ls = '-' ,color='green',lw=0.5,label= 'Fit: m='+str(np.round(slope2,1))+', b='+str(np.round(intercept2,1))+', $r^2$='+str(-np.round(r_value2,3)))\n",
    "ax[1].legend()\n",
    "\n",
    "ax[0].set_ylabel('Min. Wavelength -\\n Calibration (nm)')\n",
    "ax[0].set_xlabel(' índice de refração')\n",
    "\n",
    "\n",
    "ax[1].set_ylabel('Min. Wavelength -\\n Calibration (nm)')\n",
    "ax[1].set_xlabel(' índice de refração')\n",
    "fig.suptitle('Calibração dos sensores')\n",
    "fig.tight_layout()\n",
    "\n",
    "plt.savefig('calibration_sensors.png',dpi=300)"
   ]
  },
  {
   "cell_type": "code",
   "execution_count": 65,
   "id": "c3e8df87",
   "metadata": {},
   "outputs": [
    {
     "data": {
      "text/plain": [
       "[1547.1160497784917,\n",
       " 1547.194774615927,\n",
       " 1546.003030903902,\n",
       " 1546.3361135634116,\n",
       " 1545.4580856164357,\n",
       " 1544.3059279909899,\n",
       " 1546.6220592567647,\n",
       " 1545.8228586114005,\n",
       " 1541.9875678698043,\n",
       " 1548.4647254664371]"
      ]
     },
     "execution_count": 65,
     "metadata": {},
     "output_type": "execute_result"
    }
   ],
   "source": [
    "min_LPG1_calibration"
   ]
  },
  {
   "cell_type": "code",
   "execution_count": null,
   "id": "630b156e",
   "metadata": {},
   "outputs": [],
   "source": []
  }
 ],
 "metadata": {
  "kernelspec": {
   "display_name": "Python 3",
   "language": "python",
   "name": "python3"
  },
  "language_info": {
   "codemirror_mode": {
    "name": "ipython",
    "version": 3
   },
   "file_extension": ".py",
   "mimetype": "text/x-python",
   "name": "python",
   "nbconvert_exporter": "python",
   "pygments_lexer": "ipython3",
   "version": "3.6.12"
  }
 },
 "nbformat": 4,
 "nbformat_minor": 5
}
