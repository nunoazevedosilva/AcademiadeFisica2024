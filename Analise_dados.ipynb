{
 "cells": [
  {
   "cell_type": "markdown",
   "id": "383e900c",
   "metadata": {},
   "source": [
    "# Academia de Física 2024\n",
    "#\n",
    "## Notebook de Análise de Dados \n",
    "Actividade: A ótica como caixa de ferramentas para a indústria e ciência – fabricação de sensores óticos para monitorização de parâmetros ambientais em tempo real\n",
    "\n",
    "\n",
    "**Objectivo:** Monitorização ambiental com sensores em fibra baseados em redes de período longo (LPG - Long Period Grating)\n",
    "\n",
    "**Datas:** Sessão 2: 3/5/2024, Sessão 3: 10/5/2024\n",
    "\n",
    "**Grupo:** Hélia Ferreira, Inês Ferreira Lopes, Inês Pinto, Maria Santos, Matias Praça\n",
    "\n",
    "**Monitores:** Luís Coelho, Nuno Silva\n",
    "\n",
    "-----------"
   ]
  },
  {
   "cell_type": "markdown",
   "id": "45b65498",
   "metadata": {},
   "source": [
    "# 1. Introdução\n",
    "\n",
    "## 1.1 Contexto\n",
    "\n",
    "A ótica é uma subárea da física de alto potencial a nível tecnológico devido às propriedades intrínsecas da luz, em particular a velocidade da luz (uma das motivações para as comunicações ultrarrápidas em fibra ótica), o comportamento ondulatório e interferência de fontes coerentes (o conceito suporte de sensores ultrassensíveis), e a sua interação com a matéria (no limite, definindo aquilo que é a nossa perceção visual do mundo). Atualmente, a ótica aparece como uma das áreas mais importantes da física, seja na perspetiva científica – onde suporta os maiores importantes avanços desde a deteção de ondas gravitacionais à física quântica - ou tecnologia – onde se estabelece como um dos motores mais importantes das indústrias mais modernas e liderando a transição sustentável. A nível local e nacional, a FCUP e em particular o Centro de Fotónica Aplicada do INESC TEC são instituições de prestígio neste domínio científico\n",
    "\n",
    "---------------------\n",
    "\n",
    "## 1.2. Descrição da atividade\n",
    "\n",
    "Nesta atividade vamos explorar o desenvolvimento de sensores em fibra ótica para monitorização ambiental utilizando redes de período longo (long-period gratings -LPGs). \n",
    "\n",
    "\n",
    "<p align=\"center\">\n",
    "  <img src=\"LPG1.png\" width='40%' alt=\"Concept\"/><img src=\"LPG2.png\" width='35%' alt=\"Concept\"/>\n",
    "  <center>Figura. Processo de fabricação utilizando a técnica de arco elétrico e espectro ótico final. Representação de um sistema de monitorização de líquidos utilizando redes de período longo em fibra ótica.</center>\n",
    "</p>\n",
    "\n",
    "Esta atividade procura introduzir alguns dos conceitos mais importantes da ótica, refletindo a sua importância no mundo atual, e percebendo como podem ser aplicados no mundo real. Aproveitando a ubiquidade da ótica, o projeto utiliza uma visão multifacetada nas várias vertentes de uma possível carreira na área da física, em específico:\n",
    "\n",
    "**Vertente teórica:** Modelo e princípio de sensorização (ex. perfil de Física Teórica);\n",
    "\n",
    "**Vertente aplicada:** Fabricação de dispositivos e validação do conceito (caracterização) (ex. perfil de Física Aplicada);\n",
    "\n",
    "**Vertente desenvolvimento:** interrogação e desenvolvimento integrado de sistema de sensorização (ex. perfil de Engenharia Física);\n",
    "\n",
    "-------\n",
    "\n",
    "## 1.4 Introdução teórica: sensores em fibra ótica e redes de período longo (LPG)\n",
    "\n",
    "As fibras óticas são filamentos flexíveis feitos de vidro ou plástico (com diâmetro de dezenas a centenas de micrómetros), que são capazes de guiar a luz a grandes distâncias através da reflexão total interna. Esta tecnologia é essencial para as comunicações modernas, permitindo a transmissão de dados a velocidades muito elevadas, alta densidade, e baixa degradação.\n",
    "\n",
    "Em paralelo à comunicação, as fibras óticas podem também suportar tarefas de sensorização. De um modo geral, um sensor é um sistema físico que responde a um estímulo externo, permitindo-nos desta forma obter informação do estímulo, isto é, **fazer uma medição**.\n",
    "\n",
    "\n",
    "Os sensores em fibra ótica utilizam vários processos associados à guiagem de luz, reflexão, e refracção para monitorizar diversas grandezas físicas, como temperatura, pressão e deformação. A sensibilidade destes sensores à alteração das propriedades da luz que passa pelas fibras permite detetar mudanças ambientais com precisão e rapidez.\n",
    "\n",
    "Algumas vantagens dos Sensores em Fibra Ótica:\n",
    "\n",
    "1. **Imunidade a interferências eletromagnéticas:** Funcionam eficazmente em ambientes com forte radiação eletromagnética.\n",
    "2. **Segurança:** são ideais para ambientes explosivos pois não requerem componentes elétricos perto da sensorização.\n",
    "3. **Miniaturização:** Podem ser fabricados em tamanhos muito pequenos para aplicações em espaços restritos.\n",
    "4. **Baixa necessidade de manutenção:** Têm longa vida útil e requerem pouca manutenção devido à sua natureza robusta e à falta de componentes elétricos.\n",
    "5. **Alcance longo e arquiteturas distribuídas:** Capazes de realizar medições ao longo de grandes distâncias sem perda de sinal significativa.\n",
    "\n",
    "\n",
    "Os sensores de período longo (Long Period Gratings, LPG) são uma variante dos sensores em fibra ótica. De um modo geral, estas redes são estruturas periódicas (da ordem das centenas de micrómetros) fabricadas diretamente numa fibra ótica de forma a promover o acoplamento entre modos guiados no núcleo com os modos da bainha da fibra. \n",
    "\n",
    "<p align=\"center\">\n",
    "  <img src=\"F1.png\" alt=\"Concept\"/>\n",
    "  <center>Figura. LPG e funcionamento</center>\n",
    "</p>\n",
    "\n",
    "Quando provocado numa fibra monomodo, este acomplamento pode levar ao aparecimento de bandas de atenuação que decorrem de um acoplamento ressonante dado pela fórmula\n",
    "\n",
    "$$ \\lambda^{i}_{LPG} = \\Lambda (n^{eff}_{core}-n^{eff}_{cladding}) $$\n",
    "\n",
    "onde $\\lambda^{i}_{LPG}$ representa o comprimento de onda de cada banda de atenuação no espectro, $n^{eff}_{core}$ e $n^{eff}_{cladding}$ os índices de refracção efetivos do core e do cladding respectivamente, e o $\\Lambda$ o período da modulação aplicada. \n",
    "\n",
    "Desta forma, a banda de atenuação acontece em condições de ressonância que dependem do índice de refração do meio envolvente, este conceito pode ser utilizado para o desenvolvimento de sensores óticos bastante precisos, que iremos utilizar para monitorização de parâmetros ambientais num problema relevante. \n",
    "\n",
    "\n",
    "------\n",
    "## 1.5 Fabricação de LPGs com arco elétrico\n",
    "\n",
    "\n",
    "<p align=\"center\">\n",
    "  <img src=\"fab1.png\" width='15%' alt=\"Concept\"/><img src=\"fab2.png\" width='30%' alt=\"Concept\"/>\n",
    "  <center>Figura. Processo de fabricação com arco elétrico.</center>\n",
    "</p>\n",
    "\n",
    "\n",
    "\n",
    "Descrição geral do processo de fabricação dos LPGS:\n",
    "\n",
    "1. Colocar a fibra (monomodo a 1550nm) no sistema de fabricação: \n",
    "\n",
    "    i. clivar e colocar no conector, que liga ao OSA; \n",
    "\n",
    "    ii. verificar que electrodos estão a 1mm de distância;\n",
    "\n",
    "    iii. tirar o revestimento num comprimento aproximadamente 10cm onde iremos fabricar a rede;\n",
    "    \n",
    "    iv. colocar a fibra no sistema, alinhando e prendendo na carruagem que será controlada automaticamente pelo programa de fabricação no computador.\n",
    "\n",
    "2. Controlar parâmetros de fabricação no : período $\\Lambda$ e número de disparos.\n",
    "3. Monitorizar evolução do espectro em transmissão no OSA;\n",
    "4. Incrementar disparos até atingir -20dB na banda de atenuação perto dos 1550nm.\n",
    "\n",
    "\n",
    "------\n",
    "\n",
    "## 1.6 Metodologia da atividade\n",
    "\n",
    "Sessão 1 - Introdução à física dos sensores de fibras óticas e instrumentação;\n",
    "\n",
    "Sessão 2 - Fabricação de um LPG, caracterização da resposta espectral;\n",
    "\n",
    "Sessão 3 - Sistema de interrogação e caracterização do sensor;\n",
    "\n",
    "Sessão 4 - Análise de dados e validação do sistema de interrogação;\n",
    "\n",
    "---------\n"
   ]
  },
  {
   "cell_type": "markdown",
   "id": "3a67dac9",
   "metadata": {
    "scrolled": false
   },
   "source": [
    "# 2. Análise de Dados da Fabricação\n",
    "\n",
    "Parâmetros:\n",
    "\n",
    "LPG 1 - $\\Lambda= 405 \\mu m$, 50 disparos\n",
    "\n",
    "LPG 2 - $\\Lambda= 408 \\mu m$, 58 disparos\n",
    "\n"
   ]
  },
  {
   "cell_type": "code",
   "execution_count": 1,
   "id": "a092d5c2",
   "metadata": {},
   "outputs": [],
   "source": [
    "import numpy as np\n",
    "import matplotlib.pyplot as plt \n",
    "import os"
   ]
  },
  {
   "cell_type": "code",
   "execution_count": 2,
   "id": "27b3cafa",
   "metadata": {},
   "outputs": [],
   "source": [
    "############ Função para leitura dos dados do OSA#######################\n",
    "def extract_osa_data(file_path,filter = False):\n",
    "    properties = {}\n",
    "    data = []\n",
    "    \n",
    "    with open(file_path, 'r') as file:\n",
    "        lines = file.readlines()\n",
    "        \n",
    "        # Extract properties\n",
    "        for line in lines[:32]:\n",
    "            if ',' in line:\n",
    "                key, value = line.strip().split(',')\n",
    "                try:\n",
    "                    properties[key.strip('\"')] = float(value)\n",
    "                except:\n",
    "                    properties[key.strip('\"')] = value\n",
    "            else:\n",
    "                parts = line.strip().split('\"')\n",
    "                if len(parts) > 1:\n",
    "                    properties[parts[1]] = None\n",
    "\n",
    "        # Extract data\n",
    "        wavelengths = []\n",
    "        spectrum = []\n",
    "        for line in lines[33:]:  # Assuming '[TRACE DATA]' marks the start\n",
    "            if ',' in line:\n",
    "                wavelength, measurement = line.strip().split(',')\n",
    "                wavelengths.append(float(wavelength))\n",
    "                spectrum.append(float(measurement))\n",
    "\n",
    "        ##se filter == True aplica filtro gaussiano nos dados\n",
    "        if filter:\n",
    "            def moving_average(x, w=9):\n",
    "                return np.convolve(x, np.ones(w),mode='same') / w\n",
    "            spectrum = moving_average(spectrum)\n",
    "        \n",
    "    return properties, np.array(wavelengths), np.array(spectrum)"
   ]
  },
  {
   "cell_type": "markdown",
   "id": "87ba34f1",
   "metadata": {},
   "source": [
    "# 2.1. Load dos Dados adquiridos no OSA"
   ]
  },
  {
   "cell_type": "code",
   "execution_count": 3,
   "id": "7959d6fc",
   "metadata": {},
   "outputs": [],
   "source": [
    "#path para os ficheiros \n",
    "root_path = 'dados_LPG\\\\'\n",
    "LPG_1_file = root_path + 'fibra1.CSV'\n",
    "LPG_2_file = root_path + 'fibra2.CSV'\n",
    "\n",
    "#ler ficheiros com a funcao extract_osa_data(file_path) - returns properties, wavelengths, spectrum \n",
    "LPG_1_properties, wl, LPG_1_spectrum = extract_osa_data(LPG_1_file,filter=True)\n",
    "LPG_2_properties, wl, LPG_2_spectrum = extract_osa_data(LPG_2_file,filter=True)\n",
    "\n",
    "\n",
    "index_to_cut = -50\n",
    "wl = wl[:index_to_cut]\n",
    "LPG_1_spectrum = LPG_1_spectrum[:index_to_cut]\n",
    "LPG_2_spectrum = LPG_2_spectrum[:index_to_cut]\n"
   ]
  },
  {
   "cell_type": "markdown",
   "id": "001e0668",
   "metadata": {},
   "source": [
    "## 2.2. Plot dos dados"
   ]
  },
  {
   "cell_type": "code",
   "execution_count": 4,
   "id": "806f1b4c",
   "metadata": {},
   "outputs": [
    {
     "data": {
      "application/vnd.jupyter.widget-view+json": {
       "model_id": "54fabdf6852c4cee87175643d9d14a8f",
       "version_major": 2,
       "version_minor": 0
      },
      "text/plain": [
       "Canvas(toolbar=Toolbar(toolitems=[('Home', 'Reset original view', 'home', 'home'), ('Back', 'Back to previous …"
      ]
     },
     "metadata": {},
     "output_type": "display_data"
    }
   ],
   "source": [
    "%matplotlib widget\n",
    "fig, ax = plt.subplots(figsize=[8,3])\n",
    "ax.plot(wl, LPG_1_spectrum, ls='-',color='steelblue', label = 'LPG 1 - $\\Lambda = 405 \\mu m$')\n",
    "ax.plot(wl, LPG_2_spectrum, ls='-',color='orange', label = 'LPG 2 - $\\Lambda = 408 \\mu m$')\n",
    "ax.legend()\n",
    "ax.set_xlabel(r'$\\lambda$ (nm)')\n",
    "ax.set_ylabel('Transmission Power (dB)')\n",
    "ax.set_ylim(-25,1)\n",
    "ax.set_xlim(1000,1650)\n",
    "ax.set_title('Spectrum for LPGs obtained from OSA after fabrication')\n",
    "ax.spines['right'].set_visible(False)\n",
    "ax.spines['top'].set_visible(False)\n",
    "fig.tight_layout()"
   ]
  },
  {
   "cell_type": "markdown",
   "id": "b8da6a47",
   "metadata": {},
   "source": [
    "## 2.3. Análise gráfica\n",
    "\n",
    "Identificar bandas de atenuação e apresentar graficamente a análise"
   ]
  },
  {
   "cell_type": "code",
   "execution_count": 5,
   "id": "cf902869",
   "metadata": {},
   "outputs": [
    {
     "data": {
      "application/vnd.jupyter.widget-view+json": {
       "model_id": "afc39a88049d41039ca0751d7b285b20",
       "version_major": 2,
       "version_minor": 0
      },
      "text/plain": [
       "Canvas(toolbar=Toolbar(toolitems=[('Home', 'Reset original view', 'home', 'home'), ('Back', 'Back to previous …"
      ]
     },
     "metadata": {},
     "output_type": "display_data"
    }
   ],
   "source": [
    "### Calcular pontos, mostrar no grafico\n",
    "\n",
    "######plot da regiao de interesse onde queremos calcular o mínimo da banda de atenuacao\n",
    "fig, ax = plt.subplots(figsize=[5,3])\n",
    "ax.plot(wl, LPG_1_spectrum, ls='-',color='steelblue', label = 'LPG 1')\n",
    "ax.plot(wl, LPG_2_spectrum, ls='-',color='orange', label = 'LPG 2')\n",
    "ax.set_xlabel(r'$\\lambda$ (nm)')\n",
    "ax.set_ylabel('Transmission Power (dB)')\n",
    "ax.set_ylim(-25,1)\n",
    "\n",
    "\n",
    "####MODIFICAR AQUI OS LIMITES PARA A REGIAO DE INTERESSE###################\n",
    "ax.set_xlim(1450,1650)\n",
    "\n",
    "\n",
    "######MODIFICAR AQUI##########################################\n",
    "min_lambda_LPG1, min_power_LPG1 = 1579,-19.93 ###modificar aqui\n",
    "\n",
    "#Plot das linhas para o LPG1\n",
    "ax.axvline(min_lambda_LPG1,ls='--',color='steelblue',lw=0.5)\n",
    "ax.axhline(min_power_LPG1,ls='--',color='steelblue',lw=0.5)\n",
    "ax.plot(min_lambda_LPG1,min_power_LPG1,marker='o',color='steelblue')\n",
    "ax.text(min_lambda_LPG1+2,min_power_LPG1+1, '('+str(min_lambda_LPG1)+'nm , '+str(min_power_LPG1) + 'dB)',color='steelblue', horizontalalignment='left')\n",
    "\n",
    "\n",
    "######MODIFICAR AQUI##########################################\n",
    "min_lambda_LPG2, min_power_LPG2 = 1556,-23.48 ###modificar aqui\n",
    "\n",
    "ax.axvline(min_lambda_LPG2,ls='--',color='orange',lw=0.5)\n",
    "ax.axhline(min_power_LPG2,ls='--',color='orange',lw=0.5)\n",
    "ax.plot(min_lambda_LPG2,min_power_LPG2,marker='o',color='orange')\n",
    "ax.text(min_lambda_LPG2-2,min_power_LPG2+1, '('+str(min_lambda_LPG2)+'nm , '+str(min_power_LPG2) + 'dB)',color='orange', horizontalalignment='right')\n",
    "ax.legend()\n",
    "ax.spines['right'].set_visible(False)\n",
    "ax.spines['top'].set_visible(False)\n",
    "\n",
    "fig.tight_layout()\n"
   ]
  },
  {
   "cell_type": "code",
   "execution_count": 6,
   "id": "d6e51561",
   "metadata": {},
   "outputs": [],
   "source": [
    "#Fazer para os restantes 3 picos "
   ]
  },
  {
   "cell_type": "code",
   "execution_count": 7,
   "id": "6203831b",
   "metadata": {},
   "outputs": [],
   "source": [
    "#Fazer para os restantes 3 picos "
   ]
  },
  {
   "cell_type": "code",
   "execution_count": 8,
   "id": "bc65a786",
   "metadata": {},
   "outputs": [],
   "source": [
    "#Fazer para os restantes 3 picos "
   ]
  },
  {
   "cell_type": "markdown",
   "id": "50621713",
   "metadata": {},
   "source": [
    "## 2.5 Fit automático com uma gaussiana"
   ]
  },
  {
   "cell_type": "code",
   "execution_count": 71,
   "id": "15eb5311",
   "metadata": {},
   "outputs": [],
   "source": [
    "######Funcoes para o fit automatico######\n",
    "#### na prática vamos usar a função mais abaixo - iterative_find_minimum_gaussian(wl, sp, range_min, range_max, delta)\n",
    "\n",
    "from scipy.optimize import curve_fit\n",
    "\n",
    "def gaussian(x, a, b, c):\n",
    "    return a * np.exp(-0.5 * ((x - b) / c)**2)\n",
    "\n",
    "\n",
    "def find_minimum_gaussian(wl, sp, range_min=1550, range_max=1600):\n",
    "    # Filter data within the specified range\n",
    "    mask = (wl >= range_min) & (wl <= range_max)\n",
    "    x_data = wl[mask]\n",
    "    y_data = sp[mask]\n",
    "\n",
    "    if len(x_data) == 0:\n",
    "        return None, None\n",
    "\n",
    "    # Initial guesses for Gaussian parameters:\n",
    "    # a: amplitude (estimated from y_data min),\n",
    "    # b: mean (estimated from x_data corresponding to y_data min),\n",
    "    # c: std dev (rough guess based on the range width)\n",
    "    initial_guess = [min(y_data), x_data[np.argmin(y_data)], (range_max - range_min) / 6]\n",
    "    \n",
    "    try:\n",
    "        # Fit the Gaussian model\n",
    "        params, _ = curve_fit(gaussian, x_data, y_data, p0=initial_guess)\n",
    "        # Compute the minimum of the Gaussian fit\n",
    "        a, b, c = params\n",
    "        gaussian_min = gaussian(b, *params)  # Gaussian minimum at the center b\n",
    "        return b, gaussian_min, x_data, gaussian(x_data, *params)\n",
    "    except Exception as e:\n",
    "        print(f\"Fit error: {e}\")\n",
    "        return None, None\n",
    "    \n",
    "\n",
    "#####################################3\n",
    "\n",
    "def iterative_find_minimum_gaussian(wl, sp, range_min=1550, range_max=1600, delta=5):\n",
    "    #encontra 2 vezes consecutivas o mínimo, fazendo o improvement da estimativa\n",
    "    min_wavelength, min_intensity, xregion, yfit = find_minimum_gaussian(wl, sp, range_min=range_min, range_max=range_max)\n",
    "    return find_minimum_gaussian(wl, sp, range_min=min_wavelength-delta, range_max=min_wavelength+delta)\n",
    "\n",
    "\n",
    "def iterative_find_minimum_gaussian(wl, sp, range_min=1550, range_max=1600, delta=5,delta2=5):\n",
    "    #encontra 2 vezes consecutivas o mínimo, fazendo o improvement da estimativa\n",
    "    min_wavelength, min_intensity, xregion, yfit = find_minimum_gaussian(wl, sp, range_min=range_min, range_max=range_max)\n",
    "    return find_minimum_gaussian(wl, sp, range_min=min_wavelength-delta, range_max=min_wavelength+delta)\n",
    "    \n"
   ]
  },
  {
   "cell_type": "code",
   "execution_count": 72,
   "id": "ee0100cb",
   "metadata": {},
   "outputs": [
    {
     "name": "stdout",
     "output_type": "stream",
     "text": [
      "LPG1 - Minimum occurs at 1578.36074297785 nm with intensity -19.547623076068202\n"
     ]
    },
    {
     "data": {
      "application/vnd.jupyter.widget-view+json": {
       "model_id": "c0811768dc3f4c23ae6203a8a39c1054",
       "version_major": 2,
       "version_minor": 0
      },
      "text/plain": [
       "Canvas(toolbar=Toolbar(toolitems=[('Home', 'Reset original view', 'home', 'home'), ('Back', 'Back to previous …"
      ]
     },
     "metadata": {},
     "output_type": "display_data"
    },
    {
     "name": "stdout",
     "output_type": "stream",
     "text": [
      "LPG2 - Minimum occurs at 1555.9282580449385 nm with intensity -23.233306094555235\n"
     ]
    }
   ],
   "source": [
    "# Exemplo de utilização\n",
    "\n",
    "\n",
    "##First iteration - encontra minimo entre 1550 e 1600 - podemos modificar\n",
    "min_wavelength, min_intensity, xregion, yfit = iterative_find_minimum_gaussian(wl, LPG_1_spectrum,range_min = 1550, range_max=1600,delta=5)\n",
    "print(f\"LPG1 - Minimum occurs at {min_wavelength} nm with intensity {min_intensity}\")\n",
    "\n",
    "### Calcular pontos, mostrar no grafico\n",
    "\n",
    "fig, ax = plt.subplots(figsize=[5,3])\n",
    "ax.plot(wl, LPG_1_spectrum, ls='-',color='steelblue', label = 'LPG 1')\n",
    "ax.plot(xregion, yfit, ls='--',color='red', label = 'Gaussian Fit')\n",
    "ax.plot(min_wavelength, min_intensity, marker='o',color='red', label = 'Minimum',mec='k')\n",
    "\n",
    "###################################################\n",
    "###EXERCICIO: Fazer para o LPG2\n",
    "\n",
    "##First iteration - encontra minimo entre 1550 e 1600 - podemos modificar\n",
    "min_wavelength, min_intensity, xregion, yfit = iterative_find_minimum_gaussian(wl, LPG_2_spectrum,range_min = 1500, range_max=1600,delta=5)\n",
    "print(f\"LPG2 - Minimum occurs at {min_wavelength} nm with intensity {min_intensity}\")\n",
    "\n",
    "ax.plot(wl, LPG_2_spectrum, ls='-',color='orange', label = 'LPG 2')\n",
    "ax.plot(xregion, yfit, ls='--',color='green', label = 'Gaussian Fit')\n",
    "ax.plot(min_wavelength, min_intensity, marker='o',color='green', label = 'Minimum',mec='k')\n",
    "\n",
    "\n",
    "ax.set_xlabel(r'$\\lambda$ (nm)')\n",
    "ax.set_ylabel('Transmission Power (dB)')\n",
    "ax.set_ylim(-25,1)\n",
    "ax.set_xlim(1500,1650)\n",
    "ax.legend()\n",
    "fig.tight_layout()"
   ]
  },
  {
   "cell_type": "code",
   "execution_count": 73,
   "id": "f77ef4f9",
   "metadata": {},
   "outputs": [],
   "source": [
    "# Repetir para mais um dos picos"
   ]
  },
  {
   "cell_type": "markdown",
   "id": "2b6d8635",
   "metadata": {},
   "source": [
    "# 2.4 Análise quantitativa\n",
    "\n",
    "a. Tentem determinar para cada caso o $(n^{eff}_{core}-n^{eff}_{cladding})$ tendo em conta o período dos LPGs fabricados. Comentem os resultados."
   ]
  },
  {
   "cell_type": "code",
   "execution_count": 74,
   "id": "1f33f318",
   "metadata": {},
   "outputs": [
    {
     "data": {
      "text/plain": [
       "[22]"
      ]
     },
     "execution_count": 74,
     "metadata": {},
     "output_type": "execute_result"
    }
   ],
   "source": [
    "## Quanto varia quando comparado com os parâmetros alterados?\n",
    "## calcular para cada pico delta lamba = lambda2 - lambda 1 e representar em função de \n",
    "#direita\n",
    "delta_lambda = [1578-1556]\n",
    "delta_lambda"
   ]
  },
  {
   "cell_type": "markdown",
   "id": "0b293b77",
   "metadata": {},
   "source": [
    "## 4. Caracterização em função do índice de refracção externo\n",
    "\n",
    "Depois da fabricação:\n",
    "1. Fazemos um splice para cada LPG com 2 fibras com conector em cada lado;\n",
    "2. Preparamos amostras de referência com diferentes índices de refracção;\n",
    "3. Na unidade de interrogação determinamos a variação do mínimo da banda de atenuação."
   ]
  },
  {
   "cell_type": "markdown",
   "id": "28bc8bfe",
   "metadata": {},
   "source": [
    "## 4.1 Load dos Dados"
   ]
  },
  {
   "cell_type": "code",
   "execution_count": 75,
   "id": "cf563036",
   "metadata": {},
   "outputs": [],
   "source": [
    "import pandas as pd\n",
    "\n",
    "def read_spectral_data(file_path):\n",
    "    # Read the Excel file\n",
    "    timestamp = file_path.split('_')[-1].split('.')[0]\n",
    "    df = pd.read_csv(file_path,sep=\"\\t\")\n",
    "    \n",
    "    # Assume the first column is 'Wavelength' and the others are 'Channel 1', 'Channel 2', etc.\n",
    "    wavelength = df['Wavelength (nm)'].values\n",
    "    channels = [df[column].values for column in df.columns if 'Spectra' in column]\n",
    "    \n",
    "    # Return the wavelength array and the channel arrays\n",
    "    return wavelength, channels[2],channels[3], timestamp"
   ]
  },
  {
   "cell_type": "markdown",
   "id": "c0858f86",
   "metadata": {},
   "source": [
    "### 4.1.1. Exemplo e plot"
   ]
  },
  {
   "cell_type": "code",
   "execution_count": 76,
   "id": "8c364087",
   "metadata": {},
   "outputs": [
    {
     "data": {
      "application/vnd.jupyter.widget-view+json": {
       "model_id": "0116e95c53104cd0b1aa5875bbcf9c3a",
       "version_major": 2,
       "version_minor": 0
      },
      "text/plain": [
       "Canvas(toolbar=Toolbar(toolitems=[('Home', 'Reset original view', 'home', 'home'), ('Back', 'Back to previous …"
      ]
     },
     "metadata": {},
     "output_type": "display_data"
    },
    {
     "name": "stdout",
     "output_type": "stream",
     "text": [
      "LPG1 - Minimum occurs at 1556.948157209055 nm with intensity -30.73098853679664\n"
     ]
    },
    {
     "data": {
      "text/plain": [
       "[<matplotlib.lines.Line2D at 0x2b008cb9f98>]"
      ]
     },
     "execution_count": 76,
     "metadata": {},
     "output_type": "execute_result"
    }
   ],
   "source": [
    "# Exemplo do resultado de cada dado\n",
    "file_path = 'dados_interrogacao/Spectra-10-05-2024_16-47-45-.916.xls'\n",
    "wavelength, data_lpg1, data_lpg2, timestamp = read_spectral_data(file_path)\n",
    "\n",
    "fig,ax = plt.subplots(figsize=[6,3])\n",
    "ax.plot(wavelength, data_lpg1,ls='-',color='steelblue',label='LPG 1')\n",
    "ax.plot(wavelength, data_lpg2,ls='-',color='orange',label='LPG 2')\n",
    "ax.set_xlabel('$\\lambda (nm)$')\n",
    "ax.set_ylabel('Transmission power (dB)')\n",
    "ax.legend()\n",
    "fig.tight_layout()\n",
    "\n",
    "##First iteration - encontra minimo entre 1550 e 1600 - podemos modificar\n",
    "min_wavelength, min_intensity, xregion, yfit = iterative_find_minimum_gaussian(wavelength, data_lpg1,range_min = 1520, range_max=1600,delta=2)\n",
    "print(f\"LPG1 - Minimum occurs at {min_wavelength} nm with intensity {min_intensity}\")\n",
    "ax.plot(xregion, yfit, ls='--',color='green', label = 'Gaussian Fit')\n",
    "ax.plot(min_wavelength, min_intensity, marker='o',color='green', label = 'Minimum',mec='k')\n"
   ]
  },
  {
   "cell_type": "markdown",
   "id": "80eae787",
   "metadata": {},
   "source": [
    "## 4.1.2 Timeline e identificação de momentos para calibracao\n",
    "\n",
    "Aqui representamos os dados obtidos na timeline só para identificar os momentos e os ficheiros associados."
   ]
  },
  {
   "cell_type": "code",
   "execution_count": 77,
   "id": "549b76a5",
   "metadata": {},
   "outputs": [],
   "source": [
    "import datetime\n",
    "from datetime import datetime\n",
    "import matplotlib.dates\n",
    "\n",
    "#ler os dados da timeline\n",
    "\n",
    "file_timeline = 'dados_interrogacao/-2024-05-10.xls'\n",
    "df = pd.read_csv(file_timeline,sep=\"\\t\")\n",
    "elapsed_time = df['Time(HHMMSS.3us)']\n",
    "signal = df['Norm. CH2']\n",
    "\n",
    "# uma funcao para ajudar na conversao e na representacao abaixo\n",
    "\n",
    "def hhmmss_to_datetime(time_str):\n",
    "    # Base date (today)\n",
    "    base_date = datetime.today().date().isoformat()\n",
    "    # Extract microseconds, limiting to first 6 digits if longer\n",
    "    hh, mm, ss, micro = time_str[:2], time_str[2:4], time_str[4:6], time_str[7:]\n",
    "    if len(micro) > 6:\n",
    "        micro = micro[:6]  # Truncate to microseconds (6 digits)\n",
    "    time_str_full = f\"{base_date} {hh}:{mm}:{ss}.{micro}\"\n",
    "    return datetime.strptime(time_str_full, '%Y-%m-%d %H:%M:%S.%f')\n",
    "\n",
    "# Apply conversion to create datetime objects\n",
    "datetime_series = df['Time(HHMMSS.3us)'].astype(str).apply(hhmmss_to_datetime)\n"
   ]
  },
  {
   "cell_type": "code",
   "execution_count": 78,
   "id": "f99ec275",
   "metadata": {},
   "outputs": [
    {
     "data": {
      "application/vnd.jupyter.widget-view+json": {
       "model_id": "02363b96002b4900819df7a52357896a",
       "version_major": 2,
       "version_minor": 0
      },
      "text/plain": [
       "Canvas(toolbar=Toolbar(toolitems=[('Home', 'Reset original view', 'home', 'home'), ('Back', 'Back to previous …"
      ]
     },
     "metadata": {},
     "output_type": "display_data"
    }
   ],
   "source": [
    "fig,ax = plt.subplots(figsize=[10,2])\n",
    "ax.plot(datetime_series, signal)\n",
    "ax.set_xlabel('Timestamp')\n",
    "ax.set_ylabel('Minimum (nm)')\n",
    "\n",
    "folders = ['dados_interrogacao//Aquisicao_'+str(i)+'//' for i in range(1,22)]\n",
    "for i in range(len(folders)):\n",
    "    list_files = os.listdir(folders[i])\n",
    "    base_date = datetime.today().date().isoformat()\n",
    "\n",
    "    string_time = list_files[0].split('_')[-1].split('.xls')[0]\n",
    "    hh, mm, ss, micro = string_time[:2], string_time[3:5], string_time[6:8], string_time[11:]\n",
    "    time_str_full = f\"{base_date} {hh}:{mm}:{ss}.{micro}\"\n",
    "    time_stamp = datetime.strptime(time_str_full, '%Y-%m-%d %H:%M:%S.%f')\n",
    "    \n",
    "    ax.axvline(time_stamp,color='gray',ls='--')\n",
    "    ax.text(x=time_stamp,y=1558,s=str(i+1),horizontalalignment='center',color='gray')\n",
    "\n"
   ]
  },
  {
   "cell_type": "markdown",
   "id": "aa6d631d",
   "metadata": {},
   "source": [
    "## 4.2 Pipeline de Processamento automático\n",
    "\n",
    "Com base na análise anterior foram criadas pastas denominadas Aquisicao_i para cada aquisicao representada, com 10 espectros a comecar no momento indicado acima.\n",
    "\n",
    "Agora vamos ler estes dados, calcular o mínimo para cada espectro."
   ]
  },
  {
   "cell_type": "code",
   "execution_count": 79,
   "id": "f53f4cd9",
   "metadata": {},
   "outputs": [
    {
     "name": "stdout",
     "output_type": "stream",
     "text": [
      "Processing folder 21 of 21\r"
     ]
    }
   ],
   "source": [
    "folders = ['dados_interrogacao//Aquisicao_'+str(i)+'//' for i in range(1,22)]\n",
    "refractive_index = []\n",
    "\n",
    "min_LPG1 = []\n",
    "std_LPG1 = []\n",
    "min_LPG2 = []\n",
    "std_LPG2 = []\n",
    "\n",
    "for i in range(len(folders)):\n",
    "    #em cada folder\n",
    "    print('Processing folder '+str(i+1)+' of '+str(len(folders)),end='\\r')\n",
    "\n",
    "    #le todos os ficheiros\n",
    "    list_files = os.listdir(folders[i])\n",
    "    \n",
    "    list_of_minimums_lpg1 = []\n",
    "    list_of_minimums_lpg2 = []\n",
    "\n",
    "    for file in list_files:\n",
    "        #em cada ficheiro le os dados antes de calcular o minimo\n",
    "        wavelength, data_lpg1, data_lpg2, timestamp = read_spectral_data(folders[i] + file)\n",
    "\n",
    "        ##########LPG1##################\n",
    "        #calcula o minimo\n",
    "        min_wavelength_LPG1, min_intensity, xregion, yfit = iterative_find_minimum_gaussian(wavelength, data_lpg1,range_min = 1520, range_max=1600,delta=2)\n",
    "        #cola a uma lista definida em cima\n",
    "        list_of_minimums_lpg1.append(min_wavelength_LPG1)\n",
    "\n",
    "        ##########LPG2##################\n",
    "        #igual para o 2\n",
    "        min_wavelength_LPG2, min_intensity, xregion, yfit = iterative_find_minimum_gaussian(wavelength, data_lpg2,range_min = 1520, range_max=1600,delta=2)\n",
    "        list_of_minimums_lpg2.append(min_wavelength_LPG1)\n",
    "\n",
    "    #adiciona aos dados finais a média das medições do LPG1\n",
    "    min_LPG1.append(np.mean(list_of_minimums_lpg1))\n",
    "    std_LPG1.append(np.std(list_of_minimums_lpg1))\n",
    "\n",
    "    #adiciona aos dados finais a média das medições do LPG2\n",
    "    min_LPG2.append(np.mean(list_of_minimums_lpg2))\n",
    "    std_LPG2.append(np.std(list_of_minimums_lpg2))\n"
   ]
  },
  {
   "cell_type": "markdown",
   "id": "bde2c9ab",
   "metadata": {},
   "source": [
    "## 4.2.1. Análise de dados em função do número da medição\n",
    "\n",
    "Para introduzir os datasets e olhar como variaram as medições. \n",
    "\n",
    "Será que o resultado para as medições no ar variaram? Era suposto? O que aconteceu?"
   ]
  },
  {
   "cell_type": "code",
   "execution_count": 49,
   "id": "fbe5f39c",
   "metadata": {},
   "outputs": [
    {
     "data": {
      "application/vnd.jupyter.widget-view+json": {
       "model_id": "a729c1fa4c8845b09acc0bb2a15fdebf",
       "version_major": 2,
       "version_minor": 0
      },
      "text/plain": [
       "Canvas(toolbar=Toolbar(toolitems=[('Home', 'Reset original view', 'home', 'home'), ('Back', 'Back to previous …"
      ]
     },
     "metadata": {},
     "output_type": "display_data"
    }
   ],
   "source": [
    "##vamos saltar dados de 2 em 2 e gravar em duas listas separadas, calibration e water para cada LPG\n",
    "min_LPG1_calibration = min_LPG1[1::2]\n",
    "min_LPG1_air = min_LPG1[::2]\n",
    "\n",
    "min_LPG2_calibration = min_LPG2[1::2]\n",
    "min_LPG2_air = min_LPG2[::2]\n",
    "\n",
    "##evolucao da medicao da água\n",
    "fig,ax = plt.subplots(figsize=[5,3])\n",
    "ax.plot(min_LPG1_air,'o',ls='--',lw=0.5,color='steelblue')\n",
    "ax.set_xlabel('# medição')\n",
    "ax.set_ylabel('Min. Wavelength -\\n Air (nm)',color='steelblue')\n",
    "\n",
    "ax1 = ax.twinx()\n",
    "ax1.plot(min_LPG1_calibration,'*',color='red',ls='--',lw=0.5)\n",
    "ax1.set_ylabel('Min. Wavelength -\\n Calibration (nm)',color='red')\n",
    "ax.set_title('Evolução do mínimo com medições')\n",
    "fig.tight_layout()"
   ]
  },
  {
   "cell_type": "markdown",
   "id": "016c1265",
   "metadata": {},
   "source": [
    "## 4.3 Resultado da calibração"
   ]
  },
  {
   "cell_type": "code",
   "execution_count": null,
   "id": "5edb3d31",
   "metadata": {},
   "outputs": [],
   "source": [
    "### A. Fazer plot dos dados em funcao da "
   ]
  }
 ],
 "metadata": {
  "kernelspec": {
   "display_name": "Python 3",
   "language": "python",
   "name": "python3"
  },
  "language_info": {
   "codemirror_mode": {
    "name": "ipython",
    "version": 3
   },
   "file_extension": ".py",
   "mimetype": "text/x-python",
   "name": "python",
   "nbconvert_exporter": "python",
   "pygments_lexer": "ipython3",
   "version": "3.6.12"
  }
 },
 "nbformat": 4,
 "nbformat_minor": 5
}
