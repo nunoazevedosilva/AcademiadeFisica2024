{
 "cells": [
  {
   "cell_type": "markdown",
   "id": "383e900c",
   "metadata": {},
   "source": [
    "# Academia de Física 2024\n",
    "#\n",
    "## Notebook de Análise de Dados \n",
    "Actividade: Monitorização ambiental com sensores em fibra baseados em redes de período longo (LPG - Long Period Grating)\n",
    "Data de aquisição : 3/6/2024"
   ]
  },
  {
   "cell_type": "code",
   "execution_count": 30,
   "id": "fa5359c4",
   "metadata": {},
   "outputs": [],
   "source": [
    "import numpy as np\n",
    "import matplotlib.pyplot as plt "
   ]
  },
  {
   "cell_type": "markdown",
   "id": "3a67dac9",
   "metadata": {
    "scrolled": false
   },
   "source": [
    "# 1. Análise de Dados da Fabricação\n",
    "\n",
    "Análise do espectro em transmissão."
   ]
  },
  {
   "cell_type": "code",
   "execution_count": 31,
   "id": "27b3cafa",
   "metadata": {},
   "outputs": [],
   "source": [
    "############ Função para leitura dos dados do OSA#######################\n",
    "def extract_osa_data(file_path,filter = False):\n",
    "    properties = {}\n",
    "    data = []\n",
    "    \n",
    "    with open(file_path, 'r') as file:\n",
    "        lines = file.readlines()\n",
    "        \n",
    "        # Extract properties\n",
    "        for line in lines[:32]:\n",
    "            if ',' in line:\n",
    "                key, value = line.strip().split(',')\n",
    "                try:\n",
    "                    properties[key.strip('\"')] = float(value)\n",
    "                except:\n",
    "                    properties[key.strip('\"')] = value\n",
    "            else:\n",
    "                parts = line.strip().split('\"')\n",
    "                if len(parts) > 1:\n",
    "                    properties[parts[1]] = None\n",
    "\n",
    "        # Extract data\n",
    "        wavelengths = []\n",
    "        spectrum = []\n",
    "        for line in lines[33:]:  # Assuming '[TRACE DATA]' marks the start\n",
    "            if ',' in line:\n",
    "                wavelength, measurement = line.strip().split(',')\n",
    "                wavelengths.append(float(wavelength))\n",
    "                spectrum.append(float(measurement))\n",
    "\n",
    "        ##se filter == True aplica filtro gaussiano nos dados\n",
    "        if filter:\n",
    "            def moving_average(x, w=9):\n",
    "                return np.convolve(x, np.ones(w),mode='same') / w\n",
    "            spectrum = moving_average(spectrum)\n",
    "        \n",
    "    return properties, wavelengths, spectrum"
   ]
  },
  {
   "cell_type": "markdown",
   "id": "87ba34f1",
   "metadata": {},
   "source": [
    "# 1.1. Load dos Dados adquiridos no OSA"
   ]
  },
  {
   "cell_type": "code",
   "execution_count": 32,
   "id": "7959d6fc",
   "metadata": {},
   "outputs": [],
   "source": [
    "#path para os ficheiros \n",
    "root_path = 'dados_LPG\\\\'\n",
    "LPG_1_file = root_path + 'fibra1.CSV'\n",
    "LPG_2_file = root_path + 'fibra2.CSV'\n",
    "\n",
    "#ler ficheiros com a funcao extract_osa_data(file_path) - returns properties, wavelengths, spectrum \n",
    "LPG_1_properties, wl, LPG_1_spectrum = extract_osa_data(LPG_1_file,filter=True)\n",
    "LPG_2_properties, wl, LPG_2_spectrum = extract_osa_data(LPG_2_file,filter=True)\n",
    "\n",
    "\n",
    "index_to_cut = -50\n",
    "wl = wl[:index_to_cut]\n",
    "LPG_1_spectrum = LPG_1_spectrum[:index_to_cut]\n",
    "LPG_2_spectrum = LPG_2_spectrum[:index_to_cut]\n"
   ]
  },
  {
   "cell_type": "markdown",
   "id": "001e0668",
   "metadata": {},
   "source": [
    "## 1.2. Plot dos dados"
   ]
  },
  {
   "cell_type": "code",
   "execution_count": 33,
   "id": "806f1b4c",
   "metadata": {},
   "outputs": [
    {
     "data": {
      "application/vnd.jupyter.widget-view+json": {
       "model_id": "b30cd8a50057431aaa37500987149a88",
       "version_major": 2,
       "version_minor": 0
      },
      "text/plain": [
       "Canvas(toolbar=Toolbar(toolitems=[('Home', 'Reset original view', 'home', 'home'), ('Back', 'Back to previous …"
      ]
     },
     "metadata": {},
     "output_type": "display_data"
    }
   ],
   "source": [
    "%matplotlib widget\n",
    "fig, ax = plt.subplots(figsize=[8,3])\n",
    "ax.plot(wl, LPG_1_spectrum, ls='-',color='steelblue', label = 'LPG 1')\n",
    "ax.plot(wl, LPG_2_spectrum, ls='-',color='orange', label = 'LPG 2')\n",
    "ax.legend()\n",
    "ax.set_xlabel(r'$\\lambda$ (nm)')\n",
    "#ax.set_yscale('log')\n",
    "ax.set_ylabel('Transmission Power (dB)')\n",
    "ax.set_ylim(-25,1)\n",
    "ax.set_xlim(1000,1650)\n",
    "ax.set_title('Spectrum for LPGs obtained from OSA after fabrication')\n",
    "fig.tight_layout()"
   ]
  },
  {
   "cell_type": "markdown",
   "id": "b8da6a47",
   "metadata": {},
   "source": [
    "## 1.3. Análise gráfica\n",
    "\n",
    "Identificar Picos e apresentar graficamente a análise"
   ]
  },
  {
   "cell_type": "code",
   "execution_count": 34,
   "id": "cf902869",
   "metadata": {},
   "outputs": [
    {
     "data": {
      "application/vnd.jupyter.widget-view+json": {
       "model_id": "a99ac690d3414b0bb92dd9e2fac1dbcf",
       "version_major": 2,
       "version_minor": 0
      },
      "text/plain": [
       "Canvas(toolbar=Toolbar(toolitems=[('Home', 'Reset original view', 'home', 'home'), ('Back', 'Back to previous …"
      ]
     },
     "metadata": {},
     "output_type": "display_data"
    }
   ],
   "source": [
    "### Calcular pontos, mostrar no grafico\n",
    "\n",
    "fig, ax = plt.subplots(figsize=[5,3])\n",
    "ax.plot(wl, LPG_1_spectrum, ls='-',color='steelblue', label = 'LPG 1')\n",
    "ax.plot(wl, LPG_2_spectrum, ls='-',color='orange', label = 'LPG 2')\n",
    "ax.set_xlabel(r'$\\lambda$ (nm)')\n",
    "ax.set_ylabel('Transmission Power (dB)')\n",
    "ax.set_ylim(-25,1)\n",
    "ax.set_xlim(1450,1650)####modificar aqui\n",
    "\n",
    "######plot dos minimos determinados graficamente\n",
    "min_lambda_LPG1, min_power_LPG1 = 1579,-19.93 ###modificar aqui\n",
    "ax.axvline(min_lambda_LPG1,ls='--',color='steelblue',lw=0.5)\n",
    "ax.axhline(min_power_LPG1,ls='--',color='steelblue',lw=0.5)\n",
    "ax.plot(min_lambda_LPG1,min_power_LPG1,marker='o',color='steelblue')\n",
    "ax.text(min_lambda_LPG1+2,min_power_LPG1+1, '('+str(min_lambda_LPG1)+'nm , '+str(min_power_LPG1) + 'dB)',color='steelblue', horizontalalignment='left')\n",
    "\n",
    "min_lambda_LPG2, min_power_LPG2 = 1556,-23.48 ###modificar aqui\n",
    "ax.axvline(min_lambda_LPG2,ls='--',color='orange',lw=0.5)\n",
    "ax.axhline(min_power_LPG2,ls='--',color='orange',lw=0.5)\n",
    "ax.plot(min_lambda_LPG2,min_power_LPG2,marker='o',color='orange')\n",
    "ax.text(min_lambda_LPG2-2,min_power_LPG2+1, '('+str(min_lambda_LPG2)+'nm , '+str(min_power_LPG2) + 'dB)',color='orange', horizontalalignment='right')\n",
    "ax.legend()\n",
    "\n",
    "fig.tight_layout()\n"
   ]
  },
  {
   "cell_type": "code",
   "execution_count": null,
   "id": "d6e51561",
   "metadata": {},
   "outputs": [],
   "source": [
    "#Fazer para os restantes 3 picos "
   ]
  },
  {
   "cell_type": "code",
   "execution_count": null,
   "id": "6203831b",
   "metadata": {},
   "outputs": [],
   "source": [
    "#Fazer para os restantes 3 picos "
   ]
  },
  {
   "cell_type": "code",
   "execution_count": null,
   "id": "bc65a786",
   "metadata": {},
   "outputs": [],
   "source": [
    "#Fazer para os restantes 3 picos "
   ]
  },
  {
   "cell_type": "markdown",
   "id": "2b6d8635",
   "metadata": {},
   "source": [
    "# 1.4 Análise quantitativa\n",
    "\n",
    "![image](F1.png)\n",
    "\n",
    "\n",
    "\n",
    "Para um LPG temos a fórmula\n",
    "\n",
    "$$ \\lambda^{i}_{LPG} = \\Lambda (n^{eff}_{core}-n^{eff}_{cladding}) $$\n",
    "\n",
    "onde $\\lambda^{i}_{LPG}$ representa o comprimento de onda de cada banda de loss no espectro, e $n^{eff}_{core}$ e $n^{eff}_{cladding}$ os índices de refracção efetivos do core e do cladding respectivamente."
   ]
  },
  {
   "cell_type": "markdown",
   "id": "fc523457",
   "metadata": {},
   "source": [
    "Tendo em conta a fórmula acima, calcule para cada banda a diferença $(n^{eff}_{core}-n^{eff}_{cladding})$. Comente o resultado obtido."
   ]
  },
  {
   "cell_type": "code",
   "execution_count": 70,
   "id": "1f33f318",
   "metadata": {},
   "outputs": [],
   "source": [
    "## Quanto varia quando comparado com os parâmetros alterados?\n",
    "## calcular para cada pico delta lamba = lambda2 - lambda 1 e representar em função de \n",
    "#direita\n",
    "delta_lamba = [1579-1556]"
   ]
  },
  {
   "cell_type": "code",
   "execution_count": null,
   "id": "f8f55f5b",
   "metadata": {},
   "outputs": [],
   "source": []
  }
 ],
 "metadata": {
  "kernelspec": {
   "display_name": "Python 3",
   "language": "python",
   "name": "python3"
  },
  "language_info": {
   "codemirror_mode": {
    "name": "ipython",
    "version": 3
   },
   "file_extension": ".py",
   "mimetype": "text/x-python",
   "name": "python",
   "nbconvert_exporter": "python",
   "pygments_lexer": "ipython3",
   "version": "3.6.12"
  }
 },
 "nbformat": 4,
 "nbformat_minor": 5
}
